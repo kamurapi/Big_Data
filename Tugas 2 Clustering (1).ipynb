{
 "cells": [
  {
   "cell_type": "markdown",
   "metadata": {},
   "source": [
    "# Initiating Spark"
   ]
  },
  {
   "cell_type": "code",
   "execution_count": 1,
   "metadata": {},
   "outputs": [],
   "source": [
    "import findspark\n",
    "findspark.init()"
   ]
  },
  {
   "cell_type": "code",
   "execution_count": 2,
   "metadata": {},
   "outputs": [],
   "source": [
    "from pyspark.sql import SparkSession\n",
    "spark = SparkSession.builder.appName(\"Data Clustering\").getOrCreate()"
   ]
  },
  {
   "cell_type": "code",
   "execution_count": 3,
   "metadata": {},
   "outputs": [
    {
     "name": "stdout",
     "output_type": "stream",
     "text": [
      "<pyspark.sql.session.SparkSession object at 0x00000229832BEEB8>\n"
     ]
    }
   ],
   "source": [
    "print (spark)"
   ]
  },
  {
   "cell_type": "markdown",
   "metadata": {},
   "source": [
    "# Loading Dataset"
   ]
  },
  {
   "cell_type": "code",
   "execution_count": 4,
   "metadata": {},
   "outputs": [],
   "source": [
    "df = spark.read.csv(\"D:/KULIAH/SMT-6_BIG DATA/building-violations.csv\", header=True, inferSchema=True)"
   ]
  },
  {
   "cell_type": "code",
   "execution_count": 5,
   "metadata": {},
   "outputs": [
    {
     "data": {
      "text/plain": [
       "1600373"
      ]
     },
     "execution_count": 5,
     "metadata": {},
     "output_type": "execute_result"
    }
   ],
   "source": [
    "df.count()"
   ]
  },
  {
   "cell_type": "code",
   "execution_count": 6,
   "metadata": {},
   "outputs": [
    {
     "data": {
      "text/plain": [
       "Row(ID=1001846, VIOLATION LAST MODIFIED DATE=datetime.datetime(2008, 5, 20, 11, 55, 49), VIOLATION DATE=datetime.datetime(2007, 3, 15, 0, 0), VIOLATION CODE='EV0065', VIOLATION STATUS='COMPLIED', VIOLATION STATUS DATE=datetime.datetime(2008, 4, 28, 0, 0), VIOLATION DESCRIPTION='TEST G & S PASS ELE', VIOLATION LOCATION='BOTH CARS', VIOLATION INSPECTOR COMMENTS='FULL LOAD', VIOLATION ORDINANCE='Test governor and car safety and submit copy of test results to Elevator Bureau for passenger elevator. (13-156-820, 13-20-120)', INSPECTOR ID='541666', INSPECTION NUMBER='2089609', INSPECTION STATUS='PASSED', INSPECTION WAIVED='N', INSPECTION CATEGORY='PERIODIC', DEPARTMENT BUREAU='ELEVATOR', ADDRESS='330 N JEFFERSON ST', STREET NUMBER='330', STREET DIRECTION='N', STREET NAME='JEFFERSON', STREET TYPE='ST', PROPERTY GROUP='1901', SSA=None, LATITUDE='41.887764416', LONGITUDE='-87.64297689', LOCATION='\"{\\'latitude\\': \\'41.887764415875786\\', \\'needs_recoding\\': False, \\'human_address\\': \\'{\"\"address\"\":\"\"\"\"')"
      ]
     },
     "execution_count": 6,
     "metadata": {},
     "output_type": "execute_result"
    }
   ],
   "source": [
    "df.head()"
   ]
  },
  {
   "cell_type": "code",
   "execution_count": 7,
   "metadata": {},
   "outputs": [
    {
     "data": {
      "text/plain": [
       "StructType(List(StructField(ID,IntegerType,true),StructField(VIOLATION LAST MODIFIED DATE,TimestampType,true),StructField(VIOLATION DATE,TimestampType,true),StructField(VIOLATION CODE,StringType,true),StructField(VIOLATION STATUS,StringType,true),StructField(VIOLATION STATUS DATE,TimestampType,true),StructField(VIOLATION DESCRIPTION,StringType,true),StructField(VIOLATION LOCATION,StringType,true),StructField(VIOLATION INSPECTOR COMMENTS,StringType,true),StructField(VIOLATION ORDINANCE,StringType,true),StructField(INSPECTOR ID,StringType,true),StructField(INSPECTION NUMBER,StringType,true),StructField(INSPECTION STATUS,StringType,true),StructField(INSPECTION WAIVED,StringType,true),StructField(INSPECTION CATEGORY,StringType,true),StructField(DEPARTMENT BUREAU,StringType,true),StructField(ADDRESS,StringType,true),StructField(STREET NUMBER,StringType,true),StructField(STREET DIRECTION,StringType,true),StructField(STREET NAME,StringType,true),StructField(STREET TYPE,StringType,true),StructField(PROPERTY GROUP,StringType,true),StructField(SSA,StringType,true),StructField(LATITUDE,StringType,true),StructField(LONGITUDE,StringType,true),StructField(LOCATION,StringType,true)))"
      ]
     },
     "execution_count": 7,
     "metadata": {},
     "output_type": "execute_result"
    }
   ],
   "source": [
    "df.schema"
   ]
  },
  {
   "cell_type": "code",
   "execution_count": 8,
   "metadata": {},
   "outputs": [],
   "source": [
    "df.createOrReplaceTempView(\"violations\")"
   ]
  },
  {
   "cell_type": "markdown",
   "metadata": {},
   "source": [
    "# Training "
   ]
  },
  {
   "cell_type": "markdown",
   "metadata": {},
   "source": [
    "### 1. Retrieving Data"
   ]
  },
  {
   "cell_type": "code",
   "execution_count": 28,
   "metadata": {},
   "outputs": [],
   "source": [
    "#daftar pelanggaran yang banyak terjadi\n",
    "Query1 = spark.sql(\"SELECT `VIOLATION DESCRIPTION` AS VIOLATION, COUNT(`VIOLATION DESCRIPTION`) AS TOTAL \\\n",
    "                    FROM violations \\\n",
    "                    GROUP BY `VIOLATION DESCRIPTION`\\\n",
    "                    ORDER BY COUNT(`VIOLATION DESCRIPTION`) DESC\")"
   ]
  },
  {
   "cell_type": "code",
   "execution_count": 29,
   "metadata": {},
   "outputs": [
    {
     "name": "stdout",
     "output_type": "stream",
     "text": [
      "+--------------------+-----+\n",
      "|           VIOLATION|TOTAL|\n",
      "+--------------------+-----+\n",
      "|ARRANGE PREMISE I...|85066|\n",
      "|POST OWNER/MANAGE...|56292|\n",
      "|REPAIR EXTERIOR WALL|49096|\n",
      "| REPAIR PORCH SYSTEM|41841|\n",
      "|MAINTAIN OR REPAI...|39671|\n",
      "|VACANT BUILDING -...|35147|\n",
      "|REPLCE WINDOW PAN...|33242|\n",
      "|REPAIR EXTERIOR S...|30686|\n",
      "|INSTALL SMOKE DET...|29651|\n",
      "|PLANS & PERMITS R...|27088|\n",
      "|FILE BLDG REGISTR...|26617|\n",
      "|STOP/REMOVE NUISANCE|24375|\n",
      "|MAINTAIN OR REPAI...|23732|\n",
      "|CARB MONOX DETECT...|22542|\n",
      "|   DEBRIS, EXCESSIVE|22375|\n",
      "|REPAIR EXTERIOR DOOR|19160|\n",
      "|OBSTRUCTIONS IN E...|19079|\n",
      "|REPAIR INTERIOR W...|18518|\n",
      "|             PARAPET|18059|\n",
      "|REPAIR/REBUILD GA...|16796|\n",
      "+--------------------+-----+\n",
      "only showing top 20 rows\n",
      "\n"
     ]
    }
   ],
   "source": [
    "Query1.show()"
   ]
  },
  {
   "cell_type": "code",
   "execution_count": 30,
   "metadata": {},
   "outputs": [
    {
     "data": {
      "text/plain": [
       "1303"
      ]
     },
     "execution_count": 30,
     "metadata": {},
     "output_type": "execute_result"
    }
   ],
   "source": [
    "Query1.count()"
   ]
  },
  {
   "cell_type": "markdown",
   "metadata": {},
   "source": [
    "### 2. Assembling Vector"
   ]
  },
  {
   "cell_type": "code",
   "execution_count": 31,
   "metadata": {},
   "outputs": [],
   "source": [
    "#import vector lib\n",
    "from pyspark.ml.feature import VectorAssembler"
   ]
  },
  {
   "cell_type": "code",
   "execution_count": 40,
   "metadata": {},
   "outputs": [
    {
     "name": "stdout",
     "output_type": "stream",
     "text": [
      "+--------------------+-----+---------+\n",
      "|           VIOLATION|TOTAL| features|\n",
      "+--------------------+-----+---------+\n",
      "|ARRANGE PREMISE I...|85066|[85066.0]|\n",
      "|POST OWNER/MANAGE...|56292|[56292.0]|\n",
      "|REPAIR EXTERIOR WALL|49096|[49096.0]|\n",
      "| REPAIR PORCH SYSTEM|41841|[41841.0]|\n",
      "|MAINTAIN OR REPAI...|39671|[39671.0]|\n",
      "|VACANT BUILDING -...|35147|[35147.0]|\n",
      "|REPLCE WINDOW PAN...|33242|[33242.0]|\n",
      "|REPAIR EXTERIOR S...|30686|[30686.0]|\n",
      "|INSTALL SMOKE DET...|29651|[29651.0]|\n",
      "|PLANS & PERMITS R...|27088|[27088.0]|\n",
      "|FILE BLDG REGISTR...|26617|[26617.0]|\n",
      "|STOP/REMOVE NUISANCE|24375|[24375.0]|\n",
      "|MAINTAIN OR REPAI...|23732|[23732.0]|\n",
      "|CARB MONOX DETECT...|22542|[22542.0]|\n",
      "|   DEBRIS, EXCESSIVE|22375|[22375.0]|\n",
      "|REPAIR EXTERIOR DOOR|19160|[19160.0]|\n",
      "|OBSTRUCTIONS IN E...|19079|[19079.0]|\n",
      "|REPAIR INTERIOR W...|18518|[18518.0]|\n",
      "|             PARAPET|18059|[18059.0]|\n",
      "|REPAIR/REBUILD GA...|16796|[16796.0]|\n",
      "+--------------------+-----+---------+\n",
      "only showing top 20 rows\n",
      "\n"
     ]
    }
   ],
   "source": [
    "#Convert Query1 into Vector\n",
    "assembler = VectorAssembler(\n",
    "    inputCols=[\"TOTAL\"],\n",
    "    outputCol='features')\n",
    "\n",
    "violationType = assembler.transform(Query1)\n",
    "violationType.show()"
   ]
  },
  {
   "cell_type": "markdown",
   "metadata": {},
   "source": [
    "### 3. Training Model"
   ]
  },
  {
   "cell_type": "code",
   "execution_count": 41,
   "metadata": {},
   "outputs": [],
   "source": [
    "#import lib kmeans and clustering evaluator\n",
    "from pyspark.ml.clustering import KMeans\n",
    "from pyspark.ml.evaluation import ClusteringEvaluator"
   ]
  },
  {
   "cell_type": "code",
   "execution_count": 42,
   "metadata": {},
   "outputs": [],
   "source": [
    "kmeans = KMeans().setK(5).setSeed(1)\n",
    "model1 = kmeans.fit(violationType)"
   ]
  },
  {
   "cell_type": "markdown",
   "metadata": {},
   "source": [
    "### 4. Make Prediction"
   ]
  },
  {
   "cell_type": "code",
   "execution_count": 44,
   "metadata": {},
   "outputs": [
    {
     "name": "stdout",
     "output_type": "stream",
     "text": [
      "+--------------------+-----+---------+----------+\n",
      "|           VIOLATION|TOTAL| features|prediction|\n",
      "+--------------------+-----+---------+----------+\n",
      "|ARRANGE PREMISE I...|85066|[85066.0]|         1|\n",
      "|POST OWNER/MANAGE...|56292|[56292.0]|         1|\n",
      "|REPAIR EXTERIOR WALL|49096|[49096.0]|         1|\n",
      "| REPAIR PORCH SYSTEM|41841|[41841.0]|         3|\n",
      "|MAINTAIN OR REPAI...|39671|[39671.0]|         3|\n",
      "|VACANT BUILDING -...|35147|[35147.0]|         3|\n",
      "|REPLCE WINDOW PAN...|33242|[33242.0]|         3|\n",
      "|REPAIR EXTERIOR S...|30686|[30686.0]|         3|\n",
      "|INSTALL SMOKE DET...|29651|[29651.0]|         3|\n",
      "|PLANS & PERMITS R...|27088|[27088.0]|         3|\n",
      "|FILE BLDG REGISTR...|26617|[26617.0]|         3|\n",
      "|STOP/REMOVE NUISANCE|24375|[24375.0]|         3|\n",
      "|MAINTAIN OR REPAI...|23732|[23732.0]|         3|\n",
      "|CARB MONOX DETECT...|22542|[22542.0]|         4|\n",
      "|   DEBRIS, EXCESSIVE|22375|[22375.0]|         4|\n",
      "|REPAIR EXTERIOR DOOR|19160|[19160.0]|         4|\n",
      "|OBSTRUCTIONS IN E...|19079|[19079.0]|         4|\n",
      "|REPAIR INTERIOR W...|18518|[18518.0]|         4|\n",
      "|             PARAPET|18059|[18059.0]|         4|\n",
      "|REPAIR/REBUILD GA...|16796|[16796.0]|         4|\n",
      "+--------------------+-----+---------+----------+\n",
      "only showing top 20 rows\n",
      "\n"
     ]
    }
   ],
   "source": [
    "#make prediction from data violation type\n",
    "predictions1 = model1.transform(violationType)\n",
    "predictions1.show()"
   ]
  },
  {
   "cell_type": "markdown",
   "metadata": {},
   "source": [
    "### 5. Evaluate"
   ]
  },
  {
   "cell_type": "code",
   "execution_count": 46,
   "metadata": {},
   "outputs": [],
   "source": [
    "#Make variable for evaluting prediction data\n",
    "evaluator = ClusteringEvaluator()"
   ]
  },
  {
   "cell_type": "code",
   "execution_count": 49,
   "metadata": {},
   "outputs": [
    {
     "name": "stdout",
     "output_type": "stream",
     "text": [
      "Silhouette with squared euclidean distance = 0.9610269373558445\n"
     ]
    }
   ],
   "source": [
    "#Evaluate data violation type\n",
    "silhouette1 = evaluator.evaluate(predictions1)\n",
    "print(\"Silhouette with squared euclidean distance = \" + str(silhouette1))"
   ]
  },
  {
   "cell_type": "markdown",
   "metadata": {},
   "source": [
    "# Vizualization"
   ]
  },
  {
   "cell_type": "code",
   "execution_count": 50,
   "metadata": {
    "scrolled": true
   },
   "outputs": [
    {
     "name": "stdout",
     "output_type": "stream",
     "text": [
      "Pixiedust database opened successfully\n",
      "Table VERSION_TRACKER created successfully\n",
      "Table METRICS_TRACKER created successfully\n",
      "\n",
      "Share anonymous install statistics? (opt-out instructions)\n",
      "\n",
      "PixieDust will record metadata on its environment the next time the package is installed or updated. The data is anonymized and aggregated to help plan for future releases, and records only the following values:\n",
      "\n",
      "{\n",
      "   \"data_sent\": currentDate,\n",
      "   \"runtime\": \"python\",\n",
      "   \"application_version\": currentPixiedustVersion,\n",
      "   \"space_id\": nonIdentifyingUniqueId,\n",
      "   \"config\": {\n",
      "       \"repository_id\": \"https://github.com/ibm-watson-data-lab/pixiedust\",\n",
      "       \"target_runtimes\": [\"Data Science Experience\"],\n",
      "       \"event_id\": \"web\",\n",
      "       \"event_organizer\": \"dev-journeys\"\n",
      "   }\n",
      "}\n",
      "You can opt out by calling pixiedust.optOut() in a new cell.\n"
     ]
    },
    {
     "data": {
      "text/html": [
       "\n",
       "        <div style=\"margin:10px\">\n",
       "            <a href=\"https://github.com/ibm-watson-data-lab/pixiedust\" target=\"_new\">\n",
       "                <img src=\"https://github.com/ibm-watson-data-lab/pixiedust/raw/master/docs/_static/pd_icon32.png\" style=\"float:left;margin-right:10px\"/>\n",
       "            </a>\n",
       "            <span>Pixiedust version 1.1.15</span>\n",
       "        </div>\n",
       "        "
      ],
      "text/plain": [
       "<IPython.core.display.HTML object>"
      ]
     },
     "metadata": {},
     "output_type": "display_data"
    },
    {
     "name": "stdout",
     "output_type": "stream",
     "text": [
      "\u001b[31mPixiedust runtime updated. Please restart kernel\u001b[0m\n",
      "Table SPARK_PACKAGES created successfully\n",
      "Table USER_PREFERENCES created successfully\n",
      "Table service_connections created successfully\n"
     ]
    }
   ],
   "source": [
    "#import visual lib\n",
    "import pixiedust"
   ]
  },
  {
   "cell_type": "code",
   "execution_count": 73,
   "metadata": {
    "pixiedust": {
     "displayParams": {
      "clusterby": "VIOLATION",
      "handlerId": "pieChart",
      "keyFields": "prediction",
      "title": "Violation Cluster",
      "valueFields": "TOTAL"
     }
    },
    "scrolled": false
   },
   "outputs": [
    {
     "data": {
      "text/html": [
       "<style type=\"text/css\">.pd_warning{display:none;}</style><div class=\"pd_warning\"><em>Hey, there's something awesome here! To see it, open this notebook outside GitHub, in a viewer like Jupyter</em></div>\n",
       "        <div class=\"pd_save is-viewer-good\" style=\"padding-right:10px;text-align: center;line-height:initial !important;font-size: xx-large;font-weight: 500;color: coral;\">\n",
       "            Violation Cluster\n",
       "        </div>\n",
       "    <div class=\"pd_save is-viewer-good\" id=\"chartFigured276e6a5\" style=\"overflow-x:auto\">\n",
       "            \n",
       "                    \n",
       "                            <center><img class=\"pd_save\" style=\"max-width:initial !important\" src=\"data:image/png;base64,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\"></center>\n",
       "                        \n",
       "                    \n",
       "                \n",
       "        </div>"
      ],
      "text/plain": [
       "<IPython.core.display.HTML object>"
      ]
     },
     "metadata": {},
     "output_type": "display_data"
    }
   ],
   "source": [
    "display(predictions1)"
   ]
  },
  {
   "cell_type": "code",
   "execution_count": null,
   "metadata": {},
   "outputs": [],
   "source": []
  }
 ],
 "metadata": {
  "kernelspec": {
   "display_name": "Python 3",
   "language": "python",
   "name": "python3"
  },
  "language_info": {
   "codemirror_mode": {
    "name": "ipython",
    "version": 3
   },
   "file_extension": ".py",
   "mimetype": "text/x-python",
   "name": "python",
   "nbconvert_exporter": "python",
   "pygments_lexer": "ipython3",
   "version": "3.7.1"
  }
 },
 "nbformat": 4,
 "nbformat_minor": 2
}
