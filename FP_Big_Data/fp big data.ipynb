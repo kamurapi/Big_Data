{
 "cells": [
  {
   "cell_type": "markdown",
   "metadata": {},
   "source": [
    "# Tugas 4 Big Data - Recommendation System"
   ]
  },
  {
   "cell_type": "markdown",
   "metadata": {},
   "source": [
    "dataset = \n",
    "\n",
    "https://www.kaggle.com/dahlia25/metacritic-video-game-comments/downloads/metacritic-video-game-comments.zip/1#metacritic_game_user_comments.csv (Metacritic Video Game Comments)"
   ]
  },
  {
   "cell_type": "markdown",
   "metadata": {},
   "source": [
    "### 1.Spark Initialization"
   ]
  },
  {
   "cell_type": "code",
   "execution_count": 1,
   "metadata": {},
   "outputs": [],
   "source": [
    "import findspark\n",
    "findspark.init()"
   ]
  },
  {
   "cell_type": "code",
   "execution_count": 3,
   "metadata": {},
   "outputs": [
    {
     "name": "stdout",
     "output_type": "stream",
     "text": [
      "<pyspark.sql.session.SparkSession object at 0x000002707E605A90>\n"
     ]
    }
   ],
   "source": [
    "from pyspark.sql import SparkSession\n",
    "\n",
    "# Create Spark Session\n",
    "spark = SparkSession \\\n",
    "    .builder \\\n",
    "    .appName(\"Python Spark Recommendation System Example\") \\\n",
    "    .getOrCreate()\n",
    "\n",
    "print(spark)"
   ]
  },
  {
   "cell_type": "code",
   "execution_count": 4,
   "metadata": {},
   "outputs": [],
   "source": [
    "from pyspark.ml.evaluation import RegressionEvaluator\n",
    "from pyspark.ml.recommendation import ALS\n",
    "import pandas as pd"
   ]
  },
  {
   "cell_type": "markdown",
   "metadata": {},
   "source": [
    "### 2. Load Data"
   ]
  },
  {
   "cell_type": "code",
   "execution_count": 43,
   "metadata": {},
   "outputs": [],
   "source": [
    "df3 = spark.read.csv(\"D:/KULIAH/SMT-6_BIG-DATA/dataset/result0.txt\", header=None,inferSchema=True)"
   ]
  },
  {
   "cell_type": "code",
   "execution_count": 44,
   "metadata": {},
   "outputs": [
    {
     "data": {
      "text/plain": [
       "StructType(List(StructField(_c0,IntegerType,true),StructField(_c1,StringType,true),StructField(_c2,StringType,true),StructField(_c3,IntegerType,true),StructField(_c4,StringType,true),StructField(_c5,StringType,true)))"
      ]
     },
     "execution_count": 44,
     "metadata": {},
     "output_type": "execute_result"
    }
   ],
   "source": [
    "df3.schema"
   ]
  },
  {
   "cell_type": "code",
   "execution_count": 45,
   "metadata": {},
   "outputs": [
    {
     "name": "stdout",
     "output_type": "stream",
     "text": [
      "+---+--------------------+----------+---+--------------------+---------------+\n",
      "|_c0|                 _c1|       _c2|_c3|                 _c4|            _c5|\n",
      "+---+--------------------+----------+---+--------------------+---------------+\n",
      "|  0|The Legend of Zel...|Nintendo64| 10|Everything in OoT...|     SirCaestus|\n",
      "|  1|The Legend of Zel...|Nintendo64| 10|I won't bore you ...|       Kaistlin|\n",
      "|  2|The Legend of Zel...|Nintendo64| 10|Anyone who gives ...|         Jacody|\n",
      "|  3|The Legend of Zel...|Nintendo64| 10|I'm one of those ...|     doodlerman|\n",
      "|  4|The Legend of Zel...|Nintendo64| 10| This game is the...|        StevenA|\n",
      "|  5|The Legend of Zel...|Nintendo64| 10|I think it's funn...|       joei1382|\n",
      "|  6|The Legend of Zel...|Nintendo64|  9|I played A Link T...|         Corvix|\n",
      "|  7|The Legend of Zel...|Nintendo64| 10|\"The Legend of Ze...|          Malon|\n",
      "|  8|The Legend of Zel...|Nintendo64| 10|            This ...|      Nosidda89|\n",
      "|  9|The Legend of Zel...|Nintendo64| 10|I'm not kidding w...| Regeneration13|\n",
      "| 10|The Legend of Zel...|Nintendo64| 10|Essentially one o...|KendylKlownfish|\n",
      "| 11|The Legend of Zel...|Nintendo64| 10|THIS is the PERFE...|       Boffboff|\n",
      "| 12|The Legend of Zel...|Nintendo64| 10|there is a reason...|          Bolts|\n",
      "| 13|The Legend of Zel...|Nintendo64| 10|Pure freaking mag...| TheJokerJulian|\n",
      "| 14|The Legend of Zel...|Nintendo64| 10|El juego perfecto...|      velasco92|\n",
      "| 15|The Legend of Zel...|Nintendo64| 10| The best game of...|       JordanI.|\n",
      "| 16|The Legend of Zel...|Nintendo64| 10| Amazing game in ...|         brentl|\n",
      "| 17|The Legend of Zel...|Nintendo64| 10|The best game EVE...|   Dankiller127|\n",
      "| 18|The Legend of Zel...|Nintendo64| 10|nice game i love ...|   leondaniel21|\n",
      "| 19|The Legend of Zel...|Nintendo64| 10|Hands down, the b...|  Winky-Nichols|\n",
      "+---+--------------------+----------+---+--------------------+---------------+\n",
      "only showing top 20 rows\n",
      "\n"
     ]
    }
   ],
   "source": [
    "df3.show()"
   ]
  },
  {
   "cell_type": "code",
   "execution_count": 46,
   "metadata": {},
   "outputs": [],
   "source": [
    "df3 = df3.selectExpr(\"_c1 as Title\" , \"_c3 as Userscore\", \"_c5 as Username\")"
   ]
  },
  {
   "cell_type": "code",
   "execution_count": 47,
   "metadata": {},
   "outputs": [
    {
     "name": "stdout",
     "output_type": "stream",
     "text": [
      "+---------------+--------------------+---------+\n",
      "|       Username|               Title|Userscore|\n",
      "+---------------+--------------------+---------+\n",
      "|     SirCaestus|The Legend of Zel...|       10|\n",
      "|       Kaistlin|The Legend of Zel...|       10|\n",
      "|         Jacody|The Legend of Zel...|       10|\n",
      "|     doodlerman|The Legend of Zel...|       10|\n",
      "|        StevenA|The Legend of Zel...|       10|\n",
      "|       joei1382|The Legend of Zel...|       10|\n",
      "|         Corvix|The Legend of Zel...|        9|\n",
      "|          Malon|The Legend of Zel...|       10|\n",
      "|      Nosidda89|The Legend of Zel...|       10|\n",
      "| Regeneration13|The Legend of Zel...|       10|\n",
      "|KendylKlownfish|The Legend of Zel...|       10|\n",
      "|       Boffboff|The Legend of Zel...|       10|\n",
      "|          Bolts|The Legend of Zel...|       10|\n",
      "| TheJokerJulian|The Legend of Zel...|       10|\n",
      "|      velasco92|The Legend of Zel...|       10|\n",
      "|       JordanI.|The Legend of Zel...|       10|\n",
      "|         brentl|The Legend of Zel...|       10|\n",
      "|   Dankiller127|The Legend of Zel...|       10|\n",
      "|   leondaniel21|The Legend of Zel...|       10|\n",
      "|  Winky-Nichols|The Legend of Zel...|       10|\n",
      "+---------------+--------------------+---------+\n",
      "only showing top 20 rows\n",
      "\n",
      "root\n",
      " |-- Username: string (nullable = true)\n",
      " |-- Title: string (nullable = true)\n",
      " |-- Userscore: integer (nullable = true)\n",
      "\n"
     ]
    }
   ],
   "source": [
    "df3 = df3.select(df3.Username,\n",
    "                   df3.Title,\n",
    "                   df3.Userscore)\n",
    "df3.show()\n",
    "df3.printSchema()\n",
    "df3.createOrReplaceTempView(\"ratingsdf\")"
   ]
  },
  {
   "cell_type": "code",
   "execution_count": 9,
   "metadata": {},
   "outputs": [],
   "source": [
    "# since user col need to be an int value, we need to change our 'string' ids to int\n",
    "from pyspark.ml.feature import IndexToString, StringIndexer"
   ]
  },
  {
   "cell_type": "code",
   "execution_count": 48,
   "metadata": {},
   "outputs": [],
   "source": [
    "stringindexer = StringIndexer(inputCol='Username',outputCol='UserId')\n",
    "stringindexer.setHandleInvalid(\"keep\")\n",
    "model = stringindexer.fit(df3)\n",
    "indexed = model.transform(df3)"
   ]
  },
  {
   "cell_type": "code",
   "execution_count": 49,
   "metadata": {},
   "outputs": [],
   "source": [
    "stringindexer_item = StringIndexer(inputCol='Title',outputCol='GameId')\n",
    "stringindexer_item.setHandleInvalid(\"keep\") \n",
    "model = stringindexer_item.fit(indexed)\n",
    "indexed = model.transform(indexed)"
   ]
  },
  {
   "cell_type": "code",
   "execution_count": 50,
   "metadata": {},
   "outputs": [
    {
     "name": "stdout",
     "output_type": "stream",
     "text": [
      "+---------------+--------------------+---------+-------+------+\n",
      "|       Username|               Title|Userscore| UserId|GameId|\n",
      "+---------------+--------------------+---------+-------+------+\n",
      "|     SirCaestus|The Legend of Zel...|       10| 4754.0|  32.0|\n",
      "|       Kaistlin|The Legend of Zel...|       10|45530.0|  32.0|\n",
      "|         Jacody|The Legend of Zel...|       10|39494.0|  32.0|\n",
      "|     doodlerman|The Legend of Zel...|       10|   87.0|  32.0|\n",
      "|        StevenA|The Legend of Zel...|       10| 2371.0|  32.0|\n",
      "|       joei1382|The Legend of Zel...|       10|45113.0|  32.0|\n",
      "|         Corvix|The Legend of Zel...|        9|31509.0|  32.0|\n",
      "|          Malon|The Legend of Zel...|       10|51811.0|  32.0|\n",
      "|      Nosidda89|The Legend of Zel...|       10| 1021.0|  32.0|\n",
      "| Regeneration13|The Legend of Zel...|       10|21816.0|  32.0|\n",
      "|KendylKlownfish|The Legend of Zel...|       10|   72.0|  32.0|\n",
      "|       Boffboff|The Legend of Zel...|       10|40193.0|  32.0|\n",
      "|          Bolts|The Legend of Zel...|       10| 3870.0|  32.0|\n",
      "| TheJokerJulian|The Legend of Zel...|       10| 3543.0|  32.0|\n",
      "|      velasco92|The Legend of Zel...|       10|50370.0|  32.0|\n",
      "|       JordanI.|The Legend of Zel...|       10|49259.0|  32.0|\n",
      "|         brentl|The Legend of Zel...|       10|58083.0|  32.0|\n",
      "|   Dankiller127|The Legend of Zel...|       10|39668.0|  32.0|\n",
      "|   leondaniel21|The Legend of Zel...|       10| 5549.0|  32.0|\n",
      "|  Winky-Nichols|The Legend of Zel...|       10| 7151.0|  32.0|\n",
      "+---------------+--------------------+---------+-------+------+\n",
      "only showing top 20 rows\n",
      "\n"
     ]
    }
   ],
   "source": [
    "indexed.show()"
   ]
  },
  {
   "cell_type": "code",
   "execution_count": 60,
   "metadata": {},
   "outputs": [
    {
     "name": "stdout",
     "output_type": "stream",
     "text": [
      "+---------------+-------+--------------------+------+---------+\n",
      "|       Username| UserId|               Title|GameId|Userscore|\n",
      "+---------------+-------+--------------------+------+---------+\n",
      "|     SirCaestus| 4754.0|The Legend of Zel...|  32.0|       10|\n",
      "|       Kaistlin|45530.0|The Legend of Zel...|  32.0|       10|\n",
      "|         Jacody|39494.0|The Legend of Zel...|  32.0|       10|\n",
      "|     doodlerman|   87.0|The Legend of Zel...|  32.0|       10|\n",
      "|        StevenA| 2371.0|The Legend of Zel...|  32.0|       10|\n",
      "|       joei1382|45113.0|The Legend of Zel...|  32.0|       10|\n",
      "|         Corvix|31509.0|The Legend of Zel...|  32.0|        9|\n",
      "|          Malon|51811.0|The Legend of Zel...|  32.0|       10|\n",
      "|      Nosidda89| 1021.0|The Legend of Zel...|  32.0|       10|\n",
      "| Regeneration13|21816.0|The Legend of Zel...|  32.0|       10|\n",
      "|KendylKlownfish|   72.0|The Legend of Zel...|  32.0|       10|\n",
      "|       Boffboff|40193.0|The Legend of Zel...|  32.0|       10|\n",
      "|          Bolts| 3870.0|The Legend of Zel...|  32.0|       10|\n",
      "| TheJokerJulian| 3543.0|The Legend of Zel...|  32.0|       10|\n",
      "|      velasco92|50370.0|The Legend of Zel...|  32.0|       10|\n",
      "|       JordanI.|49259.0|The Legend of Zel...|  32.0|       10|\n",
      "|         brentl|58083.0|The Legend of Zel...|  32.0|       10|\n",
      "|   Dankiller127|39668.0|The Legend of Zel...|  32.0|       10|\n",
      "|   leondaniel21| 5549.0|The Legend of Zel...|  32.0|       10|\n",
      "|  Winky-Nichols| 7151.0|The Legend of Zel...|  32.0|       10|\n",
      "+---------------+-------+--------------------+------+---------+\n",
      "only showing top 20 rows\n",
      "\n"
     ]
    }
   ],
   "source": [
    "df3= indexed.select(indexed.Username,\n",
    "                     indexed.UserId,\n",
    "                   indexed.Title,\n",
    "                    indexed.GameId,\n",
    "                   indexed.Userscore.cast(\"int\"))\n",
    "df3.show()\n"
   ]
  },
  {
   "cell_type": "markdown",
   "metadata": {},
   "source": [
    "### 3. Create Model"
   ]
  },
  {
   "cell_type": "code",
   "execution_count": 61,
   "metadata": {},
   "outputs": [],
   "source": [
    "(training, test) = df3.randomSplit([0.8, 0.2])"
   ]
  },
  {
   "cell_type": "code",
   "execution_count": 62,
   "metadata": {},
   "outputs": [],
   "source": [
    "# Build the recommendation model using ALS on the training data\n",
    "# Note we set cold start strategy to 'drop' to ensure we don't get NaN evaluation metrics\n",
    "als = ALS(maxIter=5, regParam=0.01, userCol=\"UserId\", itemCol=\"GameId\", ratingCol=\"Userscore\",\n",
    "          coldStartStrategy=\"drop\")\n",
    "model = als.fit(training)"
   ]
  },
  {
   "cell_type": "code",
   "execution_count": 63,
   "metadata": {},
   "outputs": [],
   "source": [
    "model = als.fit(training)"
   ]
  },
  {
   "cell_type": "code",
   "execution_count": 78,
   "metadata": {},
   "outputs": [],
   "source": [
    "temp = temp.select(temp.GameId,temp.Title)"
   ]
  },
  {
   "cell_type": "code",
   "execution_count": 64,
   "metadata": {},
   "outputs": [
    {
     "name": "stdout",
     "output_type": "stream",
     "text": [
      "Root-mean-square error = 9.332089442555532\n"
     ]
    }
   ],
   "source": [
    "# Evaluate the model by computing the RMSE on the test data\n",
    "predictions = model.transform(test)\n",
    "evaluator = RegressionEvaluator(metricName=\"rmse\", labelCol=\"Userscore\",\n",
    "                                predictionCol=\"prediction\")\n",
    "rmse = evaluator.evaluate(predictions)\n",
    "print(\"Root-mean-square error = \" + str(rmse))"
   ]
  },
  {
   "cell_type": "code",
   "execution_count": 65,
   "metadata": {},
   "outputs": [
    {
     "name": "stdout",
     "output_type": "stream",
     "text": [
      "+---------------+-------+--------------------+------+---------+-----------+\n",
      "|       Username| UserId|               Title|GameId|Userscore| prediction|\n",
      "+---------------+-------+--------------------+------+---------+-----------+\n",
      "|        Ronivan|12028.0|Age of Empires II...| 148.0|        3|  0.9109781|\n",
      "|       davinci2|16367.0|Age of Empires II...| 148.0|       10|  4.0817137|\n",
      "|    Schlafanzug| 1963.0|Age of Empires II...| 148.0|       10|   25.56472|\n",
      "|         JeffC.| 1607.0|Age of Empires II...| 148.0|        0|  10.695454|\n",
      "|  ColombiaGames| 1292.0|Age of Empires II...| 148.0|       10|   4.767411|\n",
      "|KendylKlownfish|   72.0|Yoshi's Island: S...| 243.0|       10| -24.126621|\n",
      "|         SeanN.|16639.0|Yoshi's Island: S...| 243.0|       10|  2.9645362|\n",
      "|      thethethe| 2661.0|Yoshi's Island: S...| 243.0|       10| -12.894782|\n",
      "|       anggadaz|  842.0|           Undertale|  31.0|       10|  3.8102298|\n",
      "|      BabyRants| 3279.0|           Undertale|  31.0|       10|   6.213803|\n",
      "|        Alef123|11308.0|           Undertale|  31.0|       10|-0.49563646|\n",
      "|       Kooledud| 2896.0|           Undertale|  31.0|       10|   3.999619|\n",
      "|   Cheezemaniac| 6382.0|           Undertale|  31.0|       10|  1.2599268|\n",
      "|       Steide56|13880.0|           Undertale|  31.0|       10|  1.1990292|\n",
      "|     timeknight| 5381.0|           Undertale|  31.0|       10|   9.995074|\n",
      "|      ziozxzioz|10807.0|           Undertale|  31.0|       10|  3.8263764|\n",
      "|  CyberRobotnix|  402.0|           Undertale|  31.0|       10|   7.989725|\n",
      "|     arachnid14|15408.0|           Undertale|  31.0|        0|        0.0|\n",
      "|  Cidcaldensfey|13057.0|           Undertale|  31.0|       10|  2.0760908|\n",
      "|        DanAran| 1222.0|           Undertale|  31.0|       10|  2.0003004|\n",
      "+---------------+-------+--------------------+------+---------+-----------+\n",
      "only showing top 20 rows\n",
      "\n"
     ]
    }
   ],
   "source": [
    "predictions.show()"
   ]
  },
  {
   "cell_type": "code",
   "execution_count": 66,
   "metadata": {},
   "outputs": [],
   "source": [
    "# Generate top 10 item recommendations for each user\n",
    "userRecs = model.recommendForAllUsers(10)\n",
    "# Generate top 10 user recommendations for each item\n",
    "itemRecs = model.recommendForAllItems(10)"
   ]
  },
  {
   "cell_type": "code",
   "execution_count": 67,
   "metadata": {},
   "outputs": [
    {
     "name": "stdout",
     "output_type": "stream",
     "text": [
      "+------+--------------------+\n",
      "|UserId|     recommendations|\n",
      "+------+--------------------+\n",
      "|   148|[[273, 214.55751]...|\n",
      "|   463|[[217, 118.46659]...|\n",
      "|   471|[[250, 106.10432]...|\n",
      "|   496|[[250, 102.92329]...|\n",
      "|   833|[[221, 96.35108],...|\n",
      "|  1088|[[254, 48.998947]...|\n",
      "|  1238|[[260, 65.84913],...|\n",
      "|  1342|[[250, 115.5149],...|\n",
      "|  1580|[[197, 38.38764],...|\n",
      "|  1591|[[289, 66.12353],...|\n",
      "|  1645|[[270, 98.28488],...|\n",
      "|  1829|[[258, 66.87807],...|\n",
      "|  1959|[[258, 24.66218],...|\n",
      "|  2122|[[260, 32.791], [...|\n",
      "|  2142|[[250, 56.930565]...|\n",
      "|  2366|[[252, 116.348465...|\n",
      "|  2659|[[258, 58.340546]...|\n",
      "|  2866|[[279, 29.6516], ...|\n",
      "|  3175|[[252, 90.21308],...|\n",
      "|  3749|[[289, 77.72006],...|\n",
      "+------+--------------------+\n",
      "only showing top 20 rows\n",
      "\n"
     ]
    }
   ],
   "source": [
    "userRecs.show()"
   ]
  },
  {
   "cell_type": "code",
   "execution_count": 68,
   "metadata": {},
   "outputs": [
    {
     "name": "stdout",
     "output_type": "stream",
     "text": [
      "+------+--------------------+\n",
      "|GameId|     recommendations|\n",
      "+------+--------------------+\n",
      "|   148|[[204, 72.12928],...|\n",
      "|   243|[[225, 145.07103]...|\n",
      "|    31|[[472, 38.217567]...|\n",
      "|   251|[[585, 204.21915]...|\n",
      "|    85|[[134, 52.024727]...|\n",
      "|   137|[[324, 99.89302],...|\n",
      "|    65|[[1053, 64.139206...|\n",
      "|    53|[[104, 39.629433]...|\n",
      "|   255|[[154, 211.51372]...|\n",
      "|   133|[[697, 102.77333]...|\n",
      "|   296|[[314, 217.24173]...|\n",
      "|    78|[[1053, 41.194748...|\n",
      "|   155|[[1053, 75.03219]...|\n",
      "|   108|[[866, 55.397915]...|\n",
      "|   211|[[314, 193.25792]...|\n",
      "|   193|[[247, 89.37335],...|\n",
      "|    34|[[104, 31.351816]...|\n",
      "|   101|[[557, 48.90856],...|\n",
      "|   115|[[247, 61.193962]...|\n",
      "|   126|[[358, 85.27717],...|\n",
      "+------+--------------------+\n",
      "only showing top 20 rows\n",
      "\n"
     ]
    }
   ],
   "source": [
    "itemRecs.show()"
   ]
  },
  {
   "cell_type": "code",
   "execution_count": null,
   "metadata": {},
   "outputs": [],
   "source": []
  }
 ],
 "metadata": {
  "kernelspec": {
   "display_name": "Python 3",
   "language": "python",
   "name": "python3"
  },
  "language_info": {
   "codemirror_mode": {
    "name": "ipython",
    "version": 3
   },
   "file_extension": ".py",
   "mimetype": "text/x-python",
   "name": "python",
   "nbconvert_exporter": "python",
   "pygments_lexer": "ipython3",
   "version": "3.7.1"
  }
 },
 "nbformat": 4,
 "nbformat_minor": 2
}
