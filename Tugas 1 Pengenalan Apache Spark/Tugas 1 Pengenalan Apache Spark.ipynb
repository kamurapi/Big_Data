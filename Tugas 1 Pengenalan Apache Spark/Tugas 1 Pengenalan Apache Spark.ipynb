{
 "cells": [
  {
   "cell_type": "markdown",
   "metadata": {},
   "source": [
    "# Tugas Pengenalan Apache Spark"
   ]
  },
  {
   "cell_type": "markdown",
   "metadata": {},
   "source": [
    "### Dataset"
   ]
  },
  {
   "cell_type": "markdown",
   "metadata": {},
   "source": [
    "https://www.kaggle.com/chicago/chicago-building-violations"
   ]
  },
  {
   "cell_type": "markdown",
   "metadata": {},
   "source": [
    "### Spark Initialization"
   ]
  },
  {
   "cell_type": "code",
   "execution_count": 5,
   "metadata": {},
   "outputs": [],
   "source": [
    "import findspark\n",
    "findspark.init()"
   ]
  },
  {
   "cell_type": "code",
   "execution_count": 6,
   "metadata": {},
   "outputs": [],
   "source": [
    "from pyspark.sql import SparkSession\n",
    "\n",
    "spark = SparkSession \\\n",
    "    .builder \\\n",
    "    .appName(\"Python Spark SQL basic example\") \\\n",
    "    .getOrCreate()"
   ]
  },
  {
   "cell_type": "code",
   "execution_count": 7,
   "metadata": {},
   "outputs": [
    {
     "name": "stdout",
     "output_type": "stream",
     "text": [
      "<pyspark.sql.session.SparkSession object at 0x0000023473EEAE10>\n"
     ]
    }
   ],
   "source": [
    "print(spark)"
   ]
  },
  {
   "cell_type": "markdown",
   "metadata": {},
   "source": [
    "### Loading Data Using Spark"
   ]
  },
  {
   "cell_type": "code",
   "execution_count": 8,
   "metadata": {},
   "outputs": [],
   "source": [
    "df = spark.read.json(\"D://big_data//spark//spark-2.3.3-bin-hadoop2.7//examples//src//main//resources//people.json\")"
   ]
  },
  {
   "cell_type": "code",
   "execution_count": 9,
   "metadata": {},
   "outputs": [
    {
     "name": "stdout",
     "output_type": "stream",
     "text": [
      "+----+-------+\n",
      "| age|   name|\n",
      "+----+-------+\n",
      "|null|Michael|\n",
      "|  30|   Andy|\n",
      "|  19| Justin|\n",
      "+----+-------+\n",
      "\n"
     ]
    }
   ],
   "source": [
    "df.show()"
   ]
  },
  {
   "cell_type": "code",
   "execution_count": 10,
   "metadata": {},
   "outputs": [
    {
     "data": {
      "text/plain": [
       "3"
      ]
     },
     "execution_count": 10,
     "metadata": {},
     "output_type": "execute_result"
    }
   ],
   "source": [
    "df.count()"
   ]
  },
  {
   "cell_type": "code",
   "execution_count": 11,
   "metadata": {},
   "outputs": [],
   "source": [
    "df2 = spark.read.csv(\"D:/KULIAH/SMT-6_BIG DATA/building-violations.csv\", header=True, inferSchema=True)"
   ]
  },
  {
   "cell_type": "code",
   "execution_count": 11,
   "metadata": {},
   "outputs": [
    {
     "name": "stdout",
     "output_type": "stream",
     "text": [
      "+-------+----------------------------+-------------------+--------------+----------------+---------------------+---------------------+------------------+----------------------------+--------------------+------------+-----------------+-----------------+-----------------+-------------------+-----------------+-------------------+-------------+----------------+-----------+-----------+--------------+----+------------+-------------+--------------------+\n",
      "|     ID|VIOLATION LAST MODIFIED DATE|     VIOLATION DATE|VIOLATION CODE|VIOLATION STATUS|VIOLATION STATUS DATE|VIOLATION DESCRIPTION|VIOLATION LOCATION|VIOLATION INSPECTOR COMMENTS| VIOLATION ORDINANCE|INSPECTOR ID|INSPECTION NUMBER|INSPECTION STATUS|INSPECTION WAIVED|INSPECTION CATEGORY|DEPARTMENT BUREAU|            ADDRESS|STREET NUMBER|STREET DIRECTION|STREET NAME|STREET TYPE|PROPERTY GROUP| SSA|    LATITUDE|    LONGITUDE|            LOCATION|\n",
      "+-------+----------------------------+-------------------+--------------+----------------+---------------------+---------------------+------------------+----------------------------+--------------------+------------+-----------------+-----------------+-----------------+-------------------+-----------------+-------------------+-------------+----------------+-----------+-----------+--------------+----+------------+-------------+--------------------+\n",
      "|1001846|         2008-05-20 11:55:49|2007-03-15 00:00:00|        EV0065|        COMPLIED|  2008-04-28 00:00:00|  TEST G & S PASS ELE|         BOTH CARS|                   FULL LOAD|Test governor and...|      541666|          2089609|           PASSED|                N|           PERIODIC|         ELEVATOR| 330 N JEFFERSON ST|          330|               N|  JEFFERSON|         ST|          1901|null|41.887764416| -87.64297689|\"{'latitude': '41...|\n",
      "|1001847|         2008-05-20 11:55:49|2007-03-15 00:00:00|        EV0117|        COMPLIED|  2008-04-28 00:00:00| REP/REPL DEF ALAR...|         BOTH CARS|        PROPERLY PROGRAM ...|Repair or replace...|      541666|          2089609|           PASSED|                N|           PERIODIC|         ELEVATOR| 330 N JEFFERSON ST|          330|               N|  JEFFERSON|         ST|          1901|null|41.887764416| -87.64297689|\"{'latitude': '41...|\n",
      "|1002009|         2011-12-07 11:58:27|2009-04-27 00:00:00|        EV0252|        COMPLIED|  2011-10-25 00:00:00| REMOVE DEBRIS FRO...|              null|                        null|Remove accumulate...|      541348|         10233143|           PASSED|                N|           PERIODIC|         ELEVATOR|5530 N WINTHROP AVE|         5530|               N|   WINTHROP|        AVE|         12102|  26|41.982771573|-87.658138451|\"{'latitude': '41...|\n",
      "|1002038|         2006-11-16 11:14:46|2006-10-02 00:00:00|        199029|            OPEN|                 null|  OPEN TYPE VIOLATION|              null|        RE: BOTH CARS-1. ...|                null|      541348|          1125132|           FAILED|                N|           PERIODIC|         ELEVATOR| 1055 W CATALPA AVE|         1055|               W|    CATALPA|        AVE|         12037|null|41.981733026|-87.657298775|\"{'latitude': '41...|\n",
      "|1002039|         2006-11-16 11:37:58|2006-10-02 00:00:00|        199029|            OPEN|                 null|  OPEN TYPE VIOLATION|              null|        2. INSTALL MISSIN...|                null|      541348|          1598831|           FAILED|                N|           PERIODIC|         ELEVATOR| 1055 W CATALPA AVE|         1055|               W|    CATALPA|        AVE|         12037|null|41.981733026|-87.657298775|\"{'latitude': '41...|\n",
      "|1002040|         2006-11-16 11:37:58|2006-10-02 00:00:00|        199029|            OPEN|                 null|  OPEN TYPE VIOLATION|              null|        3. REPAIR TELEPHO...|                null|      541348|          1598831|           FAILED|                N|           PERIODIC|         ELEVATOR| 1055 W CATALPA AVE|         1055|               W|    CATALPA|        AVE|         12037|null|41.981733026|-87.657298775|\"{'latitude': '41...|\n",
      "|1002042|         2006-11-16 11:16:37|2006-10-02 00:00:00|        199029|            OPEN|                 null|  OPEN TYPE VIOLATION|              null|        5. CLEAN ELEVATOR...|                null|      541348|          1125132|           FAILED|                N|           PERIODIC|         ELEVATOR| 1055 W CATALPA AVE|         1055|               W|    CATALPA|        AVE|         12037|null|41.981733026|-87.657298775|\"{'latitude': '41...|\n",
      "|1002044|         2006-11-16 11:37:58|2006-10-02 00:00:00|        199029|            OPEN|                 null|  OPEN TYPE VIOLATION|              null|        PROPERLY REPAIR S...|                null|      541348|          1598831|           FAILED|                N|           PERIODIC|         ELEVATOR| 1055 W CATALPA AVE|         1055|               W|    CATALPA|        AVE|         12037|null|41.981733026|-87.657298775|\"{'latitude': '41...|\n",
      "|1002047|         2008-04-08 12:19:51|2008-03-06 00:00:00|        199029|            OPEN|                 null|  OPEN TYPE VIOLATION|      ELEVATOR CAB|        INSTALL LIGHT PRO...|                null|      541348|          1125133|           FAILED|                N|           PERIODIC|         ELEVATOR| 5534 N KENMORE AVE|         5534|               N|    KENMORE|        AVE|         12066|  26|41.982909031|-87.656743178|\"{'latitude': '41...|\n",
      "|1002048|         2008-04-08 12:19:59|2008-03-06 00:00:00|        199029|            OPEN|                 null|  OPEN TYPE VIOLATION|              null|        OBTAIN PERMIT AND...|                null|      541348|          1125133|           FAILED|                N|           PERIODIC|         ELEVATOR| 5534 N KENMORE AVE|         5534|               N|    KENMORE|        AVE|         12066|  26|41.982909031|-87.656743178|\"{'latitude': '41...|\n",
      "|1003969|         2006-05-09 16:12:02|2006-04-20 00:00:00|        EL0002|        COMPLIED|  2006-04-20 00:00:00| DEFECTIVE POWER S...|              null|        TO 2ND FLOOR APAR...|Replace defective...|      538914|          1125540|           CLOSED|                N|          COMPLAINT|       ELECTRICAL| 5424 S LOOMIS BLVD|         5424|               S|     LOOMIS|       BLVD|        331651|null|41.795147261|-87.659906139|\"{'latitude': '41...|\n",
      "|1003970|         2006-05-09 16:12:11|2006-04-20 00:00:00|        EL0091|        COMPLIED|  2006-04-20 00:00:00|     NO PERMIT WIRING|              null|        PROVIDE PERMIT TO...|Obtain permit for...|      538914|          1125540|           CLOSED|                N|          COMPLAINT|       ELECTRICAL| 5424 S LOOMIS BLVD|         5424|               S|     LOOMIS|       BLVD|        331651|null|41.795147261|-87.659906139|\"{'latitude': '41...|\n",
      "|1007960|         2007-03-15 11:38:36|2006-08-11 00:00:00|      CN077014|        COMPLIED|  2006-09-28 00:00:00|         REPAIR FENCE|            MODIFY|        SOUTH FENCE NO TO...|Failed to maintai...|     BL00754|          1550107|           PASSED|                N|           PERIODIC|     CONSERVATION| 1431 S KENNETH AVE|         1431|               S|    KENNETH|        AVE|         15891|null|41.861425062|-87.735890589|\"{'latitude': '41...|\n",
      "|1007961|         2007-03-15 11:38:36|2006-08-11 00:00:00|      CN196019|        COMPLIED|  2006-09-28 00:00:00|    NO POSTED ADDRESS|            MODIFY|        NO ADDRESS POSTED...|Post address of b...|     BL00754|          1550107|           PASSED|                N|           PERIODIC|     CONSERVATION| 1431 S KENNETH AVE|         1431|               S|    KENNETH|        AVE|         15891|null|41.861425062|-87.735890589|\"{'latitude': '41...|\n",
      "|1007963|         2007-03-15 11:38:36|2006-08-11 00:00:00|        NC5042|        COMPLIED|  2006-09-28 00:00:00| SELF-CLOSE CLASS ...|            MODIFY|        NO CLOSERS AT ENT...|Failed to provide...|     BL00754|          1550107|           PASSED|                N|           PERIODIC|     CONSERVATION| 1431 S KENNETH AVE|         1431|               S|    KENNETH|        AVE|         15891|null|41.861425062|-87.735890589|\"{'latitude': '41...|\n",
      "|1007964|         2007-03-15 11:38:36|2006-08-11 00:00:00|      CN105045|        COMPLIED|  2006-09-28 00:00:00| INSTALL DEAD BOLT...|            MODIFY|        1433 NO DEADBOLT ...|Failed to install...|     BL00754|          1550107|           PASSED|                N|           PERIODIC|     CONSERVATION| 1431 S KENNETH AVE|         1431|               S|    KENNETH|        AVE|         15891|null|41.861425062|-87.735890589|\"{'latitude': '41...|\n",
      "|1007967|         2007-03-15 11:38:36|2006-08-11 00:00:00|      CN135016|        COMPLIED|  2006-09-28 00:00:00|         MICE/RODENTS|            MODIFY|              MICE INFECTIVE|Exterminate roden...|     BL00754|          1550107|           PASSED|                N|           PERIODIC|     CONSERVATION| 1431 S KENNETH AVE|         1431|               S|    KENNETH|        AVE|         15891|null|41.861425062|-87.735890589|\"{'latitude': '41...|\n",
      "|1011895|         2006-05-08 19:26:29|2006-04-24 00:00:00|      CN070024|            OPEN|                 null|  REPAIR PORCH SYSTEM|              null|        SR#05-01068689 PO...|Failed to repair ...|     BL00812|          1127250|           FAILED|                N|          COMPLAINT|     CONSERVATION| 4049 W HARRISON ST|         4049|               W|   HARRISON|         ST|        259397|null|41.873315182|-87.727370958|\"{'latitude': '41...|\n",
      "|1011897|         2006-05-08 19:32:43|2006-04-24 00:00:00|      CN190029|            OPEN|                 null| ARRANGE FOR REINS...|              null|        NO ENTRY TO INTER...|pending notice re...|     BL00812|          1127250|           FAILED|                N|          COMPLAINT|     CONSERVATION| 4049 W HARRISON ST|         4049|               W|   HARRISON|         ST|        259397|null|41.873315182|-87.727370958|\"{'latitude': '41...|\n",
      "|1011898|         2006-05-08 19:27:37|2006-04-24 00:00:00|      CN077014|            OPEN|                 null|         REPAIR FENCE|              null|        DAMAGE FENCE, MIS...|Failed to maintai...|     BL00812|          1127250|           FAILED|                N|          COMPLAINT|     CONSERVATION| 4049 W HARRISON ST|         4049|               W|   HARRISON|         ST|        259397|null|41.873315182|-87.727370958|\"{'latitude': '41...|\n",
      "+-------+----------------------------+-------------------+--------------+----------------+---------------------+---------------------+------------------+----------------------------+--------------------+------------+-----------------+-----------------+-----------------+-------------------+-----------------+-------------------+-------------+----------------+-----------+-----------+--------------+----+------------+-------------+--------------------+\n",
      "only showing top 20 rows\n",
      "\n"
     ]
    }
   ],
   "source": [
    "df2.show()"
   ]
  },
  {
   "cell_type": "code",
   "execution_count": 12,
   "metadata": {},
   "outputs": [
    {
     "data": {
      "text/plain": [
       "StructType(List(StructField(ID,IntegerType,true),StructField(VIOLATION LAST MODIFIED DATE,TimestampType,true),StructField(VIOLATION DATE,TimestampType,true),StructField(VIOLATION CODE,StringType,true),StructField(VIOLATION STATUS,StringType,true),StructField(VIOLATION STATUS DATE,TimestampType,true),StructField(VIOLATION DESCRIPTION,StringType,true),StructField(VIOLATION LOCATION,StringType,true),StructField(VIOLATION INSPECTOR COMMENTS,StringType,true),StructField(VIOLATION ORDINANCE,StringType,true),StructField(INSPECTOR ID,StringType,true),StructField(INSPECTION NUMBER,StringType,true),StructField(INSPECTION STATUS,StringType,true),StructField(INSPECTION WAIVED,StringType,true),StructField(INSPECTION CATEGORY,StringType,true),StructField(DEPARTMENT BUREAU,StringType,true),StructField(ADDRESS,StringType,true),StructField(STREET NUMBER,StringType,true),StructField(STREET DIRECTION,StringType,true),StructField(STREET NAME,StringType,true),StructField(STREET TYPE,StringType,true),StructField(PROPERTY GROUP,StringType,true),StructField(SSA,StringType,true),StructField(LATITUDE,StringType,true),StructField(LONGITUDE,StringType,true),StructField(LOCATION,StringType,true)))"
      ]
     },
     "execution_count": 12,
     "metadata": {},
     "output_type": "execute_result"
    }
   ],
   "source": [
    "df2.schema"
   ]
  },
  {
   "cell_type": "code",
   "execution_count": 13,
   "metadata": {},
   "outputs": [
    {
     "data": {
      "text/plain": [
       "1600373"
      ]
     },
     "execution_count": 13,
     "metadata": {},
     "output_type": "execute_result"
    }
   ],
   "source": [
    "df2.count()"
   ]
  },
  {
   "cell_type": "code",
   "execution_count": 12,
   "metadata": {},
   "outputs": [],
   "source": [
    "df2.createOrReplaceTempView(\"violations\")"
   ]
  },
  {
   "cell_type": "code",
   "execution_count": 13,
   "metadata": {},
   "outputs": [],
   "source": [
    "result = spark.sql(\"SELECT DISTINCT ADDRESS FROM violations\")"
   ]
  },
  {
   "cell_type": "code",
   "execution_count": 14,
   "metadata": {
    "scrolled": true
   },
   "outputs": [
    {
     "name": "stdout",
     "output_type": "stream",
     "text": [
      "+--------------------+\n",
      "|             ADDRESS|\n",
      "+--------------------+\n",
      "|   9551 S RACINE AVE|\n",
      "|  6949 S NORMAL BLVD|\n",
      "|6701 N GREENVIEW AVE|\n",
      "|   7231 S YATES BLVD|\n",
      "|    4515 W FULTON ST|\n",
      "|  5329 N LINCOLN AVE|\n",
      "|    5009 S LAFLIN ST|\n",
      "|    4351 S HONORE ST|\n",
      "|   7016 S PAULINA ST|\n",
      "|  5928 S PRAIRIE AVE|\n",
      "|7037 S CLAREMONT AVE|\n",
      "|6345 S CALIFORNIA...|\n",
      "|    2755 W DEVON AVE|\n",
      "|4622 S DR MARTIN ...|\n",
      "|    3054 W CERMAK RD|\n",
      "|    2515 W JEROME ST|\n",
      "|  2607 W RASCHER AVE|\n",
      "|4515 W WRIGHTWOOD...|\n",
      "|920 W WRIGHTWOOD AVE|\n",
      "|   4332 N PAULINA ST|\n",
      "+--------------------+\n",
      "only showing top 20 rows\n",
      "\n"
     ]
    }
   ],
   "source": [
    "result.show()"
   ]
  },
  {
   "cell_type": "code",
   "execution_count": 15,
   "metadata": {},
   "outputs": [],
   "source": [
    "result = spark.sql(\"SELECT DISTINCT 'VIOLATION DATE' FROM violations\")"
   ]
  },
  {
   "cell_type": "code",
   "execution_count": 16,
   "metadata": {
    "scrolled": true
   },
   "outputs": [
    {
     "name": "stdout",
     "output_type": "stream",
     "text": [
      "+---------------------+\n",
      "|VIOLATION DESCRIPTION|\n",
      "+---------------------+\n",
      "| SERVICE WALK, PAS...|\n",
      "| REMOVE WATER FROM...|\n",
      "|        UNAPPROVED EM|\n",
      "|     HYDROSTATIC TEST|\n",
      "|      REPAIR BAY WALL|\n",
      "| PLANS & PERMITS R...|\n",
      "| STOP USING VENT A...|\n",
      "| TUCK POINT CENTER...|\n",
      "| 1-HR HEATING PLAN...|\n",
      "|  OPEN TYPE VIOLATION|\n",
      "|  REPAIR PORCH SYSTEM|\n",
      "| REPLCE WINDOW PAN...|\n",
      "| POST OWNER/MANAGE...|\n",
      "| INST/MISS PULL ST...|\n",
      "| HEATING PLANT SEP...|\n",
      "| DISCHARGE EXHAUST...|\n",
      "|  EXTERMINATE ROACHES|\n",
      "| WIRED GLASS IN CL...|\n",
      "| REPAIR CANOPY OF ...|\n",
      "| HEATER VERTICAL V...|\n",
      "+---------------------+\n",
      "only showing top 20 rows\n",
      "\n"
     ]
    }
   ],
   "source": [
    "spark.sql(\"SELECT DISTINCT `VIOLATION DESCRIPTION` FROM violations\").show()"
   ]
  },
  {
   "cell_type": "markdown",
   "metadata": {},
   "source": [
    "### Data Mining Process"
   ]
  },
  {
   "cell_type": "code",
   "execution_count": 17,
   "metadata": {},
   "outputs": [],
   "source": [
    "#daftar pelanggaran yang banyak terjadi\n",
    "Query1 = spark.sql(\"SELECT `VIOLATION DESCRIPTION` AS VIOLATION, COUNT(`VIOLATION DESCRIPTION`) AS TOTAL \\\n",
    "                    FROM violations \\\n",
    "                    GROUP BY `VIOLATION DESCRIPTION`\\\n",
    "                    ORDER BY COUNT(`VIOLATION DESCRIPTION`) DESC\")"
   ]
  },
  {
   "cell_type": "code",
   "execution_count": 18,
   "metadata": {},
   "outputs": [
    {
     "name": "stdout",
     "output_type": "stream",
     "text": [
      "+--------------------+-----+\n",
      "|           VIOLATION|TOTAL|\n",
      "+--------------------+-----+\n",
      "|ARRANGE PREMISE I...|85066|\n",
      "|POST OWNER/MANAGE...|56292|\n",
      "|REPAIR EXTERIOR WALL|49096|\n",
      "| REPAIR PORCH SYSTEM|41841|\n",
      "|MAINTAIN OR REPAI...|39671|\n",
      "|VACANT BUILDING -...|35147|\n",
      "|REPLCE WINDOW PAN...|33242|\n",
      "|REPAIR EXTERIOR S...|30686|\n",
      "|INSTALL SMOKE DET...|29651|\n",
      "|PLANS & PERMITS R...|27088|\n",
      "|FILE BLDG REGISTR...|26617|\n",
      "|STOP/REMOVE NUISANCE|24375|\n",
      "|MAINTAIN OR REPAI...|23732|\n",
      "|CARB MONOX DETECT...|22542|\n",
      "|   DEBRIS, EXCESSIVE|22375|\n",
      "|REPAIR EXTERIOR DOOR|19160|\n",
      "|OBSTRUCTIONS IN E...|19079|\n",
      "|REPAIR INTERIOR W...|18518|\n",
      "|             PARAPET|18059|\n",
      "|REPAIR/REBUILD GA...|16796|\n",
      "+--------------------+-----+\n",
      "only showing top 20 rows\n",
      "\n"
     ]
    }
   ],
   "source": [
    "Query1.show()"
   ]
  },
  {
   "cell_type": "code",
   "execution_count": 19,
   "metadata": {},
   "outputs": [
    {
     "name": "stdout",
     "output_type": "stream",
     "text": [
      "+--------------------+\n",
      "|   DEPARTMENT BUREAU|\n",
      "+--------------------+\n",
      "| ROTTED STRINGERS...|\n",
      "| INSUFFICIENT CON...|\n",
      "|             2740491|\n",
      "|            10720139|\n",
      "|              112464|\n",
      "|    TREADS ARE LOOSE|\n",
      "|     BROKEN SECTIONS|\n",
      "|             1129381|\n",
      "|             1426845|\n",
      "|             2797778|\n",
      "| JOISTS ON LANDIN...|\n",
      "|COLUMNS ARE SITTI...|\n",
      "|            10542469|\n",
      "|            10662137|\n",
      "|Failed to maintai...|\n",
      "|            12644885|\n",
      "|             1970412|\n",
      "| EAST BEAM SUPPOR...|\n",
      "| STAIRS GRADE TO ...|\n",
      "|             1580986|\n",
      "+--------------------+\n",
      "only showing top 20 rows\n",
      "\n"
     ]
    }
   ],
   "source": [
    "spark.sql(\"SELECT DISTINCT `DEPARTMENT BUREAU` FROM violations\").show()"
   ]
  },
  {
   "cell_type": "code",
   "execution_count": 20,
   "metadata": {},
   "outputs": [],
   "source": [
    "#daftar jumlah kasus yang ditangani dari tiap biro di departemen bangunan\n",
    "Query2 = spark.sql(\"SELECT `DEPARTMENT BUREAU` AS BUREAU, COUNT(`DEPARTMENT BUREAU`) AS `TOTAL CASE TREATED` \\\n",
    "                    FROM violations \\\n",
    "                    GROUP BY `DEPARTMENT BUREAU`\\\n",
    "                    ORDER BY COUNT(`DEPARTMENT BUREAU`) DESC\")"
   ]
  },
  {
   "cell_type": "code",
   "execution_count": 21,
   "metadata": {},
   "outputs": [
    {
     "name": "stdout",
     "output_type": "stream",
     "text": [
      "+--------------------+------------------+\n",
      "|              BUREAU|TOTAL CASE TREATED|\n",
      "+--------------------+------------------+\n",
      "|        CONSERVATION|           1058409|\n",
      "|          DEMOLITION|            119627|\n",
      "|  SPECIAL TASK FORCE|            107289|\n",
      "|            ELEVATOR|             79431|\n",
      "|          ELECTRICAL|             35694|\n",
      "|              BOILER|             29738|\n",
      "|         VENTILATION|             29604|\n",
      "|       REFRIGERATION|             29052|\n",
      "|    NEW CONSTRUCTION|             27393|\n",
      "|            PLUMBING|             26610|\n",
      "|SPECIAL INSPECTIO...|             19496|\n",
      "|                IRON|             14304|\n",
      "|               SIGNS|             10230|\n",
      "|           COMPLAINT|              5376|\n",
      "|                   N|              2361|\n",
      "|            PERIODIC|              1117|\n",
      "|              FAILED|               905|\n",
      "|               WATER|               784|\n",
      "|CONSTRUCTION EQUI...|               462|\n",
      "|              PASSED|               188|\n",
      "+--------------------+------------------+\n",
      "only showing top 20 rows\n",
      "\n"
     ]
    }
   ],
   "source": [
    "Query2.show()"
   ]
  },
  {
   "cell_type": "code",
   "execution_count": 22,
   "metadata": {},
   "outputs": [],
   "source": [
    "#jumlah kasus pelanggaran yang dikutip dalam tiap hari \n",
    "Query3 = spark.sql(\"SELECT TO_DATE(`VIOLATION DATE`, 'MM/DD/YYYY') AS DATE, COUNT(`VIOLATION DATE`) AS `VIOLATION TOTAL`\\\n",
    "                    FROM violations \\\n",
    "                    GROUP BY `VIOLATION DATE` \\\n",
    "                    ORDER BY `VIOLATION DATE` DESC\")"
   ]
  },
  {
   "cell_type": "code",
   "execution_count": 23,
   "metadata": {},
   "outputs": [
    {
     "name": "stdout",
     "output_type": "stream",
     "text": [
      "+----------+---------------+\n",
      "|      DATE|VIOLATION TOTAL|\n",
      "+----------+---------------+\n",
      "|2019-02-26|             21|\n",
      "|2019-02-25|            132|\n",
      "|2019-02-24|              4|\n",
      "|2019-02-23|              9|\n",
      "|2019-02-22|            288|\n",
      "|2019-02-21|            245|\n",
      "|2019-02-20|            417|\n",
      "|2019-02-19|            427|\n",
      "|2019-02-16|              3|\n",
      "|2019-02-15|            285|\n",
      "|2019-02-14|            347|\n",
      "|2019-02-13|            301|\n",
      "|2019-02-12|              7|\n",
      "|2019-02-11|            240|\n",
      "|2019-02-09|              8|\n",
      "|2019-02-08|            237|\n",
      "|2019-02-07|            319|\n",
      "|2019-02-06|            375|\n",
      "|2019-02-05|            384|\n",
      "|2019-02-04|            189|\n",
      "+----------+---------------+\n",
      "only showing top 20 rows\n",
      "\n"
     ]
    }
   ],
   "source": [
    "Query3.show()"
   ]
  },
  {
   "cell_type": "code",
   "execution_count": null,
   "metadata": {},
   "outputs": [],
   "source": []
  }
 ],
 "metadata": {
  "kernelspec": {
   "display_name": "Python 3",
   "language": "python",
   "name": "python3"
  },
  "language_info": {
   "codemirror_mode": {
    "name": "ipython",
    "version": 3
   },
   "file_extension": ".py",
   "mimetype": "text/x-python",
   "name": "python",
   "nbconvert_exporter": "python",
   "pygments_lexer": "ipython3",
   "version": "3.7.1"
  }
 },
 "nbformat": 4,
 "nbformat_minor": 2
}
