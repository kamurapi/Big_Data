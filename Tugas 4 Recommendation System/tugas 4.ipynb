{
 "cells": [
  {
   "cell_type": "markdown",
   "metadata": {},
   "source": [
    "# Tugas 4 Big Data - Recommendation System"
   ]
  },
  {
   "cell_type": "markdown",
   "metadata": {},
   "source": [
    "dataset = http://jmcauley.ucsd.edu/data/renttherunway/renttherunway_final_data.json.gz (Clothing Fit Data)"
   ]
  },
  {
   "cell_type": "markdown",
   "metadata": {},
   "source": [
    "### 1.Spark Initialization"
   ]
  },
  {
   "cell_type": "code",
   "execution_count": 2,
   "metadata": {},
   "outputs": [],
   "source": [
    "import findspark\n",
    "findspark.init()"
   ]
  },
  {
   "cell_type": "code",
   "execution_count": 3,
   "metadata": {},
   "outputs": [
    {
     "name": "stdout",
     "output_type": "stream",
     "text": [
      "<pyspark.sql.session.SparkSession object at 0x000001C92543FF98>\n"
     ]
    }
   ],
   "source": [
    "from pyspark.sql import SparkSession\n",
    "\n",
    "# Create Spark Session\n",
    "spark = SparkSession \\\n",
    "    .builder \\\n",
    "    .appName(\"Python Spark Recommendation System Example\") \\\n",
    "    .getOrCreate()\n",
    "\n",
    "print(spark)"
   ]
  },
  {
   "cell_type": "code",
   "execution_count": 4,
   "metadata": {},
   "outputs": [],
   "source": [
    "from pyspark.ml.evaluation import RegressionEvaluator\n",
    "from pyspark.ml.recommendation import ALS\n",
    "import pandas as pd"
   ]
  },
  {
   "cell_type": "markdown",
   "metadata": {},
   "source": [
    "### 2. Load Data"
   ]
  },
  {
   "cell_type": "code",
   "execution_count": 7,
   "metadata": {},
   "outputs": [],
   "source": [
    "df2 = spark.read.json(\"D:/KULIAH/SMT-6_BIG-DATA/renttherunway_final_data.json\").na.drop()"
   ]
  },
  {
   "cell_type": "code",
   "execution_count": 8,
   "metadata": {},
   "outputs": [
    {
     "data": {
      "text/plain": [
       "StructType(List(StructField(age,StringType,true),StructField(body type,StringType,true),StructField(bust size,StringType,true),StructField(category,StringType,true),StructField(fit,StringType,true),StructField(height,StringType,true),StructField(item_id,StringType,true),StructField(rating,StringType,true),StructField(rented for,StringType,true),StructField(review_date,StringType,true),StructField(review_summary,StringType,true),StructField(review_text,StringType,true),StructField(size,LongType,true),StructField(user_id,StringType,true),StructField(weight,StringType,true)))"
      ]
     },
     "execution_count": 8,
     "metadata": {},
     "output_type": "execute_result"
    }
   ],
   "source": [
    "df2.schema"
   ]
  },
  {
   "cell_type": "code",
   "execution_count": 9,
   "metadata": {},
   "outputs": [
    {
     "name": "stdout",
     "output_type": "stream",
     "text": [
      "+---+-----------------+---------+--------+-----+------+-------+------+-------------+------------------+--------------------+--------------------+----+-------+------+\n",
      "|age|        body type|bust size|category|  fit|height|item_id|rating|   rented for|       review_date|      review_summary|         review_text|size|user_id|weight|\n",
      "+---+-----------------+---------+--------+-----+------+-------+------+-------------+------------------+--------------------+--------------------+----+-------+------+\n",
      "| 28|        hourglass|      34d|  romper|  fit| 5' 8\"|2260466|    10|     vacation|    April 20, 2016|So many compliments!|An adorable rompe...|  14| 420272|137lbs|\n",
      "| 36|straight & narrow|      34b|    gown|  fit| 5' 6\"| 153475|    10|        other|     June 18, 2013|I felt so glamour...|I rented this dre...|  12| 273551|132lbs|\n",
      "| 34|             pear|      34c|   dress|  fit| 5' 5\"| 126335|     8|formal affair| February 12, 2014|Dress arrived on ...|I rented this for...|   8| 909926|135lbs|\n",
      "| 27|         athletic|      34b|    gown|  fit| 5' 9\"| 616682|    10|      wedding|September 26, 2016|Was in love with ...|I have always bee...|  12| 151944|145lbs|\n",
      "| 45|         athletic|      32b|   dress|  fit| 5' 8\"| 364092|     8|         date|    April 30, 2016|Traditional with ...|Didn't actually w...|   8| 734848|138lbs|\n",
      "| 27|        hourglass|      34c|   dress|  fit| 5' 3\"| 568429|    10|     everyday|  December 7, 2017|LITERALLY THE CUT...|This dress is so ...|   4| 336066|112lbs|\n",
      "| 65|        full bust|     34d+|   dress|  fit| 5' 3\"| 130259|    10|formal affair|   January 1, 2013|Great dress, beau...|Fit was great. Ma...|   8|  86661|118lbs|\n",
      "| 33|           petite|      32b|    gown|  fit| 5' 3\"|1729232|    10|formal affair|  October 17, 2016|This dress was ev...|The dress was ver...|   1| 154309|114lbs|\n",
      "| 33|         athletic|      34b|   dress|small| 5' 3\"|1077123|     8|        party|   January 2, 2018|It was fun to wea...|The dress arrived...|  12| 185966|135lbs|\n",
      "| 30|             pear|      34b|   dress|large| 5' 6\"| 130259|     8|      wedding|   January 7, 2013|Stunning dress, p...|This dress was ab...|   8| 533900|135lbs|\n",
      "| 26|straight & narrow|      36a|  sheath|  fit| 5' 6\"|1295171|    10|        party|     July 28, 2016|This dress made m...|The S was snug bu...|   8|  87660|120lbs|\n",
      "| 29|            apple|      36d|   dress|large| 5' 2\"| 143094|     8|        party|   October 4, 2014|Ordered this as a...|I ordered this dr...|  20| 391778|142lbs|\n",
      "| 32|         athletic|      34b|    gown|  fit| 5' 5\"| 123793|    10|formal affair|      May 29, 2014|Stunning gown. Wo...|Fit great, super ...|   2| 721308|118lbs|\n",
      "| 30|        hourglass|      34c|leggings|  fit| 5' 7\"|2595752|    10|        party|      May 16, 2016|These leggings ar...|Medium would have...|  20| 829124|140lbs|\n",
      "| 35|             pear|      34c|   dress|  fit| 5' 8\"| 909221|    10|     vacation|    March 28, 2017|Really cute and c...|This dress is jus...|  20| 499943|170lbs|\n",
      "| 26|         athletic|      34d|   dress|  fit| 5' 5\"|1622747|    10|        party| November 13, 2017|               LOVED|Little tight, but...|  12| 339899|143lbs|\n",
      "| 28|           petite|      34b|   dress|  fit| 5' 3\"| 172027|     8|      wedding|      July 3, 2017| Semi-formal wedding|This is a pretty ...|   8| 649288|115lbs|\n",
      "| 33|           petite|      34c|    gown|small| 5' 6\"|1229740|    10|formal affair| November 16, 2017|         gala ready |super cute, 8 was...|  21|  16800|135lbs|\n",
      "| 33|        hourglass|      36d|   dress|  fit| 5' 5\"| 900878|    10|      wedding|      May 23, 2017|Perfect for a spr...|I rented this dre...|  12| 661150|145lbs|\n",
      "| 30|        hourglass|     32d+|   dress|  fit| 5' 6\"| 197391|     8|        other| February 22, 2015|Fashionable, cons...|I wore this dress...|  12| 983550|140lbs|\n",
      "+---+-----------------+---------+--------+-----+------+-------+------+-------------+------------------+--------------------+--------------------+----+-------+------+\n",
      "only showing top 20 rows\n",
      "\n"
     ]
    }
   ],
   "source": [
    "df2.show()"
   ]
  },
  {
   "cell_type": "code",
   "execution_count": 10,
   "metadata": {},
   "outputs": [
    {
     "name": "stdout",
     "output_type": "stream",
     "text": [
      "+-------+-------+------+\n",
      "|user_id|item_id|rating|\n",
      "+-------+-------+------+\n",
      "| 420272|2260466|    10|\n",
      "| 273551| 153475|    10|\n",
      "| 909926| 126335|     8|\n",
      "| 151944| 616682|    10|\n",
      "| 734848| 364092|     8|\n",
      "| 336066| 568429|    10|\n",
      "|  86661| 130259|    10|\n",
      "| 154309|1729232|    10|\n",
      "| 185966|1077123|     8|\n",
      "| 533900| 130259|     8|\n",
      "|  87660|1295171|    10|\n",
      "| 391778| 143094|     8|\n",
      "| 721308| 123793|    10|\n",
      "| 829124|2595752|    10|\n",
      "| 499943| 909221|    10|\n",
      "| 339899|1622747|    10|\n",
      "| 649288| 172027|     8|\n",
      "|  16800|1229740|    10|\n",
      "| 661150| 900878|    10|\n",
      "| 983550| 197391|     8|\n",
      "+-------+-------+------+\n",
      "only showing top 20 rows\n",
      "\n",
      "root\n",
      " |-- user_id: integer (nullable = true)\n",
      " |-- item_id: integer (nullable = true)\n",
      " |-- rating: integer (nullable = true)\n",
      "\n"
     ]
    }
   ],
   "source": [
    "df2 = df2.select(df2.user_id.cast(\"int\"),\n",
    "                   df2.item_id.cast(\"int\"),\n",
    "                   df2.rating.cast(\"int\"))\n",
    "df2.show()\n",
    "df2.printSchema()\n",
    "df2.createOrReplaceTempView(\"rating\")"
   ]
  },
  {
   "cell_type": "markdown",
   "metadata": {},
   "source": [
    "### 3. Create Model"
   ]
  },
  {
   "cell_type": "code",
   "execution_count": 11,
   "metadata": {},
   "outputs": [],
   "source": [
    "(training, test) = df2.randomSplit([0.8, 0.2])"
   ]
  },
  {
   "cell_type": "code",
   "execution_count": 12,
   "metadata": {},
   "outputs": [],
   "source": [
    "# Build the recommendation model using ALS on the training data\n",
    "# Note we set cold start strategy to 'drop' to ensure we don't get NaN evaluation metrics\n",
    "als = ALS(maxIter=5, regParam=0.01, userCol=\"user_id\", itemCol=\"item_id\", ratingCol=\"rating\",\n",
    "          coldStartStrategy=\"drop\")\n",
    "model = als.fit(training)"
   ]
  },
  {
   "cell_type": "code",
   "execution_count": 13,
   "metadata": {},
   "outputs": [],
   "source": [
    "model = als.fit(training)"
   ]
  },
  {
   "cell_type": "code",
   "execution_count": 14,
   "metadata": {},
   "outputs": [
    {
     "name": "stdout",
     "output_type": "stream",
     "text": [
      "Root-mean-square error = 13.703047287614117\n"
     ]
    }
   ],
   "source": [
    "# Evaluate the model by computing the RMSE on the test data\n",
    "predictions = model.transform(test)\n",
    "evaluator = RegressionEvaluator(metricName=\"rmse\", labelCol=\"rating\",\n",
    "                                predictionCol=\"prediction\")\n",
    "rmse = evaluator.evaluate(predictions)\n",
    "print(\"Root-mean-square error = \" + str(rmse))"
   ]
  },
  {
   "cell_type": "code",
   "execution_count": 15,
   "metadata": {},
   "outputs": [],
   "source": [
    "# Generate top 10 item recommendations for each user\n",
    "userRecs = model.recommendForAllUsers(10)\n",
    "# Generate top 10 user recommendations for each item\n",
    "itemRecs = model.recommendForAllItems(10)"
   ]
  },
  {
   "cell_type": "code",
   "execution_count": 16,
   "metadata": {},
   "outputs": [
    {
     "name": "stdout",
     "output_type": "stream",
     "text": [
      "+-------+--------------------+\n",
      "|user_id|     recommendations|\n",
      "+-------+--------------------+\n",
      "|   1088|[[2701429, 11.675...|\n",
      "|   3997|[[574909, 37.3495...|\n",
      "|   4900|[[402211, 45.3942...|\n",
      "|   6397|[[246463, 41.9044...|\n",
      "|   7240|[[2481108, 17.945...|\n",
      "|  17420|[[2074214, 12.406...|\n",
      "|  19079|[[2794512, 76.612...|\n",
      "|  22097|[[1982555, 33.866...|\n",
      "|  22223|[[1959063, 19.001...|\n",
      "|  25517|[[2655365, 50.655...|\n",
      "|  27760|[[396259, 80.8482...|\n",
      "|  28146|[[2368838, 29.581...|\n",
      "|  28577|[[1842684, 9.9997...|\n",
      "|  29993|[[2525612, 14.873...|\n",
      "|  35982|[[1115223, 60.554...|\n",
      "|  41575|[[1167885, 69.811...|\n",
      "|  44022|[[1030312, 22.733...|\n",
      "|  47084|[[1877137, 29.481...|\n",
      "|  58061|[[470444, 13.8292...|\n",
      "|  63106|[[1315960, 11.260...|\n",
      "+-------+--------------------+\n",
      "only showing top 20 rows\n",
      "\n"
     ]
    }
   ],
   "source": [
    "userRecs.show()"
   ]
  },
  {
   "cell_type": "code",
   "execution_count": 18,
   "metadata": {},
   "outputs": [
    {
     "name": "stdout",
     "output_type": "stream",
     "text": [
      "+-------+--------------------+\n",
      "|item_id|     recommendations|\n",
      "+-------+--------------------+\n",
      "|1007290|[[716322, 101.004...|\n",
      "|1333481|[[949937, 117.337...|\n",
      "|1353371|[[762525, 95.6554...|\n",
      "|2735011|[[429540, 106.322...|\n",
      "|2088432|[[752953, 125.637...|\n",
      "| 960713|[[752953, 87.9724...|\n",
      "| 992623|[[553521, 141.926...|\n",
      "|1126983|[[500850, 113.610...|\n",
      "|1406963|[[270847, 121.228...|\n",
      "|1438673|[[350442, 105.767...|\n",
      "|2707303|[[832321, 105.967...|\n",
      "|1473684|[[565950, 168.643...|\n",
      "|1491185|[[820028, 71.0015...|\n",
      "|1984705|[[270847, 163.911...|\n",
      "|2411425|[[762525, 120.362...|\n",
      "| 277366|[[820028, 193.528...|\n",
      "|1312996|[[565950, 62.3102...|\n",
      "|1733906|[[731844, 161.940...|\n",
      "|2309796|[[949937, 151.499...|\n",
      "|2336886|[[396073, 53.3747...|\n",
      "+-------+--------------------+\n",
      "only showing top 20 rows\n",
      "\n"
     ]
    }
   ],
   "source": [
    "itemRecs.show()"
   ]
  },
  {
   "cell_type": "code",
   "execution_count": null,
   "metadata": {},
   "outputs": [],
   "source": []
  }
 ],
 "metadata": {
  "kernelspec": {
   "display_name": "Python 3",
   "language": "python",
   "name": "python3"
  },
  "language_info": {
   "codemirror_mode": {
    "name": "ipython",
    "version": 3
   },
   "file_extension": ".py",
   "mimetype": "text/x-python",
   "name": "python",
   "nbconvert_exporter": "python",
   "pygments_lexer": "ipython3",
   "version": "3.7.1"
  }
 },
 "nbformat": 4,
 "nbformat_minor": 2
}
