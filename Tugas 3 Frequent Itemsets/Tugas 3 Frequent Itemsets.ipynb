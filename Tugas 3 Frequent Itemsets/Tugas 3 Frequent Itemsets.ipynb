{
 "cells": [
  {
   "cell_type": "markdown",
   "metadata": {},
   "source": [
    "## Dataset"
   ]
  },
  {
   "cell_type": "markdown",
   "metadata": {},
   "source": [
    "E-Commerce Data : https://www.kaggle.com/carrie1/ecommerce-data"
   ]
  },
  {
   "cell_type": "markdown",
   "metadata": {},
   "source": [
    "## 1. Spark Intialization"
   ]
  },
  {
   "cell_type": "code",
   "execution_count": 1,
   "metadata": {},
   "outputs": [],
   "source": [
    "import findspark\n",
    "findspark.init()"
   ]
  },
  {
   "cell_type": "code",
   "execution_count": 2,
   "metadata": {},
   "outputs": [
    {
     "name": "stdout",
     "output_type": "stream",
     "text": [
      "<pyspark.sql.session.SparkSession object at 0x0000014DA413BE10>\n"
     ]
    }
   ],
   "source": [
    "from pyspark.sql import SparkSession\n",
    "\n",
    "# Create Spark Session\n",
    "spark = SparkSession \\\n",
    "    .builder \\\n",
    "    .appName(\"Python Spark Frequent Itemsets Example\") \\\n",
    "    .getOrCreate()\n",
    "\n",
    "print(spark)"
   ]
  },
  {
   "cell_type": "code",
   "execution_count": 3,
   "metadata": {},
   "outputs": [],
   "source": [
    "df = spark.read.csv(\"D:/KULIAH/SMT-6_BIG DATA/ecommerce-data/data.csv\", header=True)"
   ]
  },
  {
   "cell_type": "code",
   "execution_count": 4,
   "metadata": {},
   "outputs": [
    {
     "data": {
      "text/plain": [
       "<bound method DataFrame.show of DataFrame[InvoiceNo: string, StockCode: string, Description: string, Quantity: string, InvoiceDate: string, UnitPrice: string, CustomerID: string, Country: string]>"
      ]
     },
     "execution_count": 4,
     "metadata": {},
     "output_type": "execute_result"
    }
   ],
   "source": [
    "df.show"
   ]
  },
  {
   "cell_type": "code",
   "execution_count": 5,
   "metadata": {},
   "outputs": [
    {
     "data": {
      "text/plain": [
       "StructType(List(StructField(InvoiceNo,StringType,true),StructField(StockCode,StringType,true),StructField(Description,StringType,true),StructField(Quantity,StringType,true),StructField(InvoiceDate,StringType,true),StructField(UnitPrice,StringType,true),StructField(CustomerID,StringType,true),StructField(Country,StringType,true)))"
      ]
     },
     "execution_count": 5,
     "metadata": {},
     "output_type": "execute_result"
    }
   ],
   "source": [
    "df.schema"
   ]
  },
  {
   "cell_type": "code",
   "execution_count": 6,
   "metadata": {},
   "outputs": [
    {
     "name": "stdout",
     "output_type": "stream",
     "text": [
      "+---------+---------+--------------------+--------+--------------+---------+----------+--------------+\n",
      "|InvoiceNo|StockCode|         Description|Quantity|   InvoiceDate|UnitPrice|CustomerID|       Country|\n",
      "+---------+---------+--------------------+--------+--------------+---------+----------+--------------+\n",
      "|   536365|   85123A|WHITE HANGING HEA...|       6|12/1/2010 8:26|     2.55|     17850|United Kingdom|\n",
      "|   536365|    71053| WHITE METAL LANTERN|       6|12/1/2010 8:26|     3.39|     17850|United Kingdom|\n",
      "|   536365|   84406B|CREAM CUPID HEART...|       8|12/1/2010 8:26|     2.75|     17850|United Kingdom|\n",
      "|   536365|   84029G|KNITTED UNION FLA...|       6|12/1/2010 8:26|     3.39|     17850|United Kingdom|\n",
      "|   536365|   84029E|RED WOOLLY HOTTIE...|       6|12/1/2010 8:26|     3.39|     17850|United Kingdom|\n",
      "|   536365|    22752|SET 7 BABUSHKA NE...|       2|12/1/2010 8:26|     7.65|     17850|United Kingdom|\n",
      "|   536365|    21730|GLASS STAR FROSTE...|       6|12/1/2010 8:26|     4.25|     17850|United Kingdom|\n",
      "|   536366|    22633|HAND WARMER UNION...|       6|12/1/2010 8:28|     1.85|     17850|United Kingdom|\n",
      "|   536366|    22632|HAND WARMER RED P...|       6|12/1/2010 8:28|     1.85|     17850|United Kingdom|\n",
      "|   536367|    84879|ASSORTED COLOUR B...|      32|12/1/2010 8:34|     1.69|     13047|United Kingdom|\n",
      "|   536367|    22745|POPPY'S PLAYHOUSE...|       6|12/1/2010 8:34|      2.1|     13047|United Kingdom|\n",
      "|   536367|    22748|POPPY'S PLAYHOUSE...|       6|12/1/2010 8:34|      2.1|     13047|United Kingdom|\n",
      "|   536367|    22749|FELTCRAFT PRINCES...|       8|12/1/2010 8:34|     3.75|     13047|United Kingdom|\n",
      "|   536367|    22310|IVORY KNITTED MUG...|       6|12/1/2010 8:34|     1.65|     13047|United Kingdom|\n",
      "|   536367|    84969|BOX OF 6 ASSORTED...|       6|12/1/2010 8:34|     4.25|     13047|United Kingdom|\n",
      "|   536367|    22623|BOX OF VINTAGE JI...|       3|12/1/2010 8:34|     4.95|     13047|United Kingdom|\n",
      "|   536367|    22622|BOX OF VINTAGE AL...|       2|12/1/2010 8:34|     9.95|     13047|United Kingdom|\n",
      "|   536367|    21754|HOME BUILDING BLO...|       3|12/1/2010 8:34|     5.95|     13047|United Kingdom|\n",
      "|   536367|    21755|LOVE BUILDING BLO...|       3|12/1/2010 8:34|     5.95|     13047|United Kingdom|\n",
      "|   536367|    21777|RECIPE BOX WITH M...|       4|12/1/2010 8:34|     7.95|     13047|United Kingdom|\n",
      "+---------+---------+--------------------+--------+--------------+---------+----------+--------------+\n",
      "only showing top 20 rows\n",
      "\n"
     ]
    }
   ],
   "source": [
    "df.show()"
   ]
  },
  {
   "cell_type": "code",
   "execution_count": 7,
   "metadata": {},
   "outputs": [],
   "source": [
    "df.createOrReplaceTempView(\"ecommerce\")"
   ]
  },
  {
   "cell_type": "code",
   "execution_count": 8,
   "metadata": {},
   "outputs": [
    {
     "name": "stdout",
     "output_type": "stream",
     "text": [
      "root\n",
      " |-- InvoiceNo: string (nullable = true)\n",
      " |-- StockCode: string (nullable = true)\n",
      " |-- Description: string (nullable = true)\n",
      " |-- Quantity: string (nullable = true)\n",
      " |-- InvoiceDate: string (nullable = true)\n",
      " |-- UnitPrice: string (nullable = true)\n",
      " |-- CustomerID: string (nullable = true)\n",
      " |-- Country: string (nullable = true)\n",
      "\n"
     ]
    }
   ],
   "source": [
    "df.printSchema()"
   ]
  },
  {
   "cell_type": "code",
   "execution_count": null,
   "metadata": {},
   "outputs": [],
   "source": []
  },
  {
   "cell_type": "markdown",
   "metadata": {},
   "source": [
    "## 2. Data Grouping "
   ]
  },
  {
   "cell_type": "markdown",
   "metadata": {},
   "source": [
    "collect data and group into same id without any redundant data"
   ]
  },
  {
   "cell_type": "code",
   "execution_count": 10,
   "metadata": {},
   "outputs": [],
   "source": [
    "#import library collect set to collect not redundant data\n",
    "from pyspark.sql.functions import collect_set"
   ]
  },
  {
   "cell_type": "code",
   "execution_count": 11,
   "metadata": {},
   "outputs": [],
   "source": [
    "#query to find id and item set\n",
    "query = spark.sql(\"SELECT DISTINCT `InvoiceNo` as id , collect_set(`StockCode`) as items \\\n",
    "                  FROM ecommerce \\\n",
    "                  GROUP BY `InvoiceNo`\")"
   ]
  },
  {
   "cell_type": "code",
   "execution_count": 12,
   "metadata": {},
   "outputs": [
    {
     "name": "stdout",
     "output_type": "stream",
     "text": [
      "+-------+--------------------+\n",
      "|     id|               items|\n",
      "+-------+--------------------+\n",
      "| 557040|[23286, 21533, 85...|\n",
      "| 576093|[21159, 22915, 21...|\n",
      "| 555075|            [85123A]|\n",
      "| 562965|[21984, 21889, 23...|\n",
      "| 536550|             [85044]|\n",
      "|C551180|[22418, 21212, 84...|\n",
      "| 539353|[20983, 21430, 21...|\n",
      "| 556095|[21974, 21931, 22...|\n",
      "| 581132|[22297, 22470, 22...|\n",
      "| 574948|[40001, 21922, 22...|\n",
      "| 579187|[22755, 37448, 21...|\n",
      "| 572097|[23208, 84375, 22...|\n",
      "| 547551|[22663, 21931, 22...|\n",
      "| 553155|             [21621]|\n",
      "| 547225|             [72819]|\n",
      "| 576539|      [23313, 22776]|\n",
      "|C545728|[21232, 22423, 22...|\n",
      "|C558469|             [23243]|\n",
      "| 538687|[22961, 22665, 22...|\n",
      "| 574251|[22131, 23400, 23...|\n",
      "+-------+--------------------+\n",
      "only showing top 20 rows\n",
      "\n"
     ]
    }
   ],
   "source": [
    "query.show()"
   ]
  },
  {
   "cell_type": "markdown",
   "metadata": {},
   "source": [
    "## 3. FP Growth Algorithm Training"
   ]
  },
  {
   "cell_type": "code",
   "execution_count": 13,
   "metadata": {},
   "outputs": [],
   "source": [
    "#import fp growth algo library\n",
    "from pyspark.ml.fpm import FPGrowth"
   ]
  },
  {
   "cell_type": "code",
   "execution_count": 14,
   "metadata": {},
   "outputs": [],
   "source": [
    "fpGrowth = FPGrowth(itemsCol=\"items\", minSupport=0.5, minConfidence=0.5)\n",
    "model=fpGrowth.fit(query)"
   ]
  },
  {
   "cell_type": "code",
   "execution_count": 15,
   "metadata": {},
   "outputs": [
    {
     "name": "stdout",
     "output_type": "stream",
     "text": [
      "+-----+----+\n",
      "|items|freq|\n",
      "+-----+----+\n",
      "+-----+----+\n",
      "\n"
     ]
    }
   ],
   "source": [
    "model.freqItemsets.show()"
   ]
  },
  {
   "cell_type": "markdown",
   "metadata": {},
   "source": [
    "There is no result, so set lower minimimun"
   ]
  },
  {
   "cell_type": "code",
   "execution_count": 18,
   "metadata": {},
   "outputs": [],
   "source": [
    "fpGrowth = FPGrowth(itemsCol=\"items\", minSupport=0.05, minConfidence=0.05)\n",
    "model2=fpGrowth.fit(query)"
   ]
  },
  {
   "cell_type": "code",
   "execution_count": 19,
   "metadata": {},
   "outputs": [
    {
     "name": "stdout",
     "output_type": "stream",
     "text": [
      "+--------+----+\n",
      "|   items|freq|\n",
      "+--------+----+\n",
      "|[85123A]|2246|\n",
      "| [22423]|2172|\n",
      "|[85099B]|2135|\n",
      "| [47566]|1706|\n",
      "| [20725]|1608|\n",
      "| [84879]|1468|\n",
      "| [22720]|1462|\n",
      "| [22197]|1442|\n",
      "| [21212]|1334|\n",
      "| [22383]|1306|\n",
      "| [20727]|1295|\n",
      "+--------+----+\n",
      "\n"
     ]
    }
   ],
   "source": [
    "model2.freqItemsets.show()"
   ]
  },
  {
   "cell_type": "code",
   "execution_count": 20,
   "metadata": {},
   "outputs": [
    {
     "name": "stdout",
     "output_type": "stream",
     "text": [
      "+----------+----------+----------+\n",
      "|antecedent|consequent|confidence|\n",
      "+----------+----------+----------+\n",
      "+----------+----------+----------+\n",
      "\n"
     ]
    }
   ],
   "source": [
    "model2.associationRules.show()"
   ]
  },
  {
   "cell_type": "markdown",
   "metadata": {},
   "source": [
    "get frequent but no rule, so set lower minimum"
   ]
  },
  {
   "cell_type": "code",
   "execution_count": 111,
   "metadata": {},
   "outputs": [],
   "source": [
    "fpGrowth = FPGrowth(itemsCol=\"items\", minSupport=0.025, minConfidence=0.025)\n",
    "model3=fpGrowth.fit(query)"
   ]
  },
  {
   "cell_type": "code",
   "execution_count": 112,
   "metadata": {},
   "outputs": [
    {
     "name": "stdout",
     "output_type": "stream",
     "text": [
      "+---------------+----+\n",
      "|          items|freq|\n",
      "+---------------+----+\n",
      "|       [85123A]|2246|\n",
      "|        [22423]|2172|\n",
      "|       [85099B]|2135|\n",
      "|        [47566]|1706|\n",
      "|        [20725]|1608|\n",
      "|        [84879]|1468|\n",
      "|        [22720]|1462|\n",
      "|        [22197]|1442|\n",
      "|        [21212]|1334|\n",
      "|        [22383]|1306|\n",
      "| [22383, 20725]| 663|\n",
      "|        [20727]|1295|\n",
      "| [20727, 20725]| 648|\n",
      "|        [22457]|1266|\n",
      "|         [POST]|1254|\n",
      "|        [23203]|1249|\n",
      "|        [22386]|1231|\n",
      "|[22386, 85099B]| 833|\n",
      "|        [22960]|1220|\n",
      "|        [22469]|1214|\n",
      "+---------------+----+\n",
      "only showing top 20 rows\n",
      "\n"
     ]
    }
   ],
   "source": [
    "model3.freqItemsets.show()"
   ]
  },
  {
   "cell_type": "code",
   "execution_count": 113,
   "metadata": {},
   "outputs": [
    {
     "name": "stdout",
     "output_type": "stream",
     "text": [
      "+----------+----------+-------------------+\n",
      "|antecedent|consequent|         confidence|\n",
      "+----------+----------+-------------------+\n",
      "|   [22699]|   [22697]|                0.7|\n",
      "|   [22386]|  [85099B]| 0.6766856214459789|\n",
      "|   [20727]|   [20725]| 0.5003861003861004|\n",
      "|   [20725]|   [22383]| 0.4123134328358209|\n",
      "|   [20725]|   [20727]|0.40298507462686567|\n",
      "|  [85099B]|   [22386]| 0.3901639344262295|\n",
      "|  [85099B]|   [21931]| 0.3433255269320843|\n",
      "|  [85099B]|   [22411]| 0.3199063231850117|\n",
      "|   [22411]|  [85099B]| 0.5754001684919966|\n",
      "|   [22383]|   [20725]| 0.5076569678407351|\n",
      "|   [21931]|  [85099B]| 0.6103247293921732|\n",
      "|   [22697]|   [22699]| 0.7417218543046358|\n",
      "+----------+----------+-------------------+\n",
      "\n"
     ]
    }
   ],
   "source": [
    "model3.associationRules.show()"
   ]
  },
  {
   "cell_type": "code",
   "execution_count": 114,
   "metadata": {},
   "outputs": [
    {
     "name": "stdout",
     "output_type": "stream",
     "text": [
      "+-------+--------------------+--------------------+\n",
      "|     id|               items|          prediction|\n",
      "+-------+--------------------+--------------------+\n",
      "| 557040|[23286, 21533, 85...|                  []|\n",
      "| 576093|[21159, 22915, 21...|                  []|\n",
      "| 555075|            [85123A]|                  []|\n",
      "| 562965|[21984, 21889, 23...|            [85099B]|\n",
      "| 536550|             [85044]|                  []|\n",
      "|C551180|[22418, 21212, 84...|                  []|\n",
      "| 539353|[20983, 21430, 21...|                  []|\n",
      "| 556095|[21974, 21931, 22...|             [22697]|\n",
      "| 581132|[22297, 22470, 22...|                  []|\n",
      "| 574948|[40001, 21922, 22...|                  []|\n",
      "| 579187|[22755, 37448, 21...|[22383, 22386, 22...|\n",
      "| 572097|[23208, 84375, 22...|             [20725]|\n",
      "| 547551|[22663, 21931, 22...|             [20725]|\n",
      "| 553155|             [21621]|                  []|\n",
      "| 547225|             [72819]|                  []|\n",
      "| 576539|      [23313, 22776]|                  []|\n",
      "|C545728|[21232, 22423, 22...|                  []|\n",
      "|C558469|             [23243]|                  []|\n",
      "| 538687|[22961, 22665, 22...|                  []|\n",
      "| 574251|[22131, 23400, 23...|                  []|\n",
      "+-------+--------------------+--------------------+\n",
      "only showing top 20 rows\n",
      "\n"
     ]
    }
   ],
   "source": [
    "model3.transform(query).show()"
   ]
  },
  {
   "cell_type": "code",
   "execution_count": 160,
   "metadata": {},
   "outputs": [],
   "source": [
    "fpGrowth = FPGrowth(itemsCol=\"items\", minSupport=0.01, minConfidence=0.01)\n",
    "model4=fpGrowth.fit(query)"
   ]
  },
  {
   "cell_type": "code",
   "execution_count": 161,
   "metadata": {},
   "outputs": [
    {
     "name": "stdout",
     "output_type": "stream",
     "text": [
      "+----------------+----+\n",
      "|           items|freq|\n",
      "+----------------+----+\n",
      "|         [22633]| 487|\n",
      "|         [23236]| 344|\n",
      "|        [85123A]|2246|\n",
      "|         [22423]|2172|\n",
      "| [22423, 85123A]| 355|\n",
      "|         [22667]| 486|\n",
      "|         [22579]| 343|\n",
      "|  [22579, 22578]| 282|\n",
      "|        [85099B]|2135|\n",
      "| [85099B, 22423]| 288|\n",
      "|[85099B, 85123A]| 404|\n",
      "|         [22620]| 486|\n",
      "|        [84536A]| 342|\n",
      "|         [71053]| 342|\n",
      "|         [47566]|1706|\n",
      "| [47566, 85099B]| 332|\n",
      "|  [47566, 22423]| 398|\n",
      "| [47566, 85123A]| 391|\n",
      "|         [85150]| 483|\n",
      "|         [20725]|1608|\n",
      "+----------------+----+\n",
      "only showing top 20 rows\n",
      "\n"
     ]
    }
   ],
   "source": [
    "model4.freqItemsets.show()"
   ]
  },
  {
   "cell_type": "code",
   "execution_count": 162,
   "metadata": {},
   "outputs": [
    {
     "name": "stdout",
     "output_type": "stream",
     "text": [
      "+--------------+----------+-------------------+\n",
      "|    antecedent|consequent|         confidence|\n",
      "+--------------+----------+-------------------+\n",
      "|       [22554]|   [22551]| 0.4823695345557123|\n",
      "|       [22554]|   [22556]| 0.3991537376586742|\n",
      "|       [22960]|   [21212]|0.21885245901639344|\n",
      "|       [22960]|  [85099B]|0.23688524590163934|\n",
      "|       [22960]|   [22423]|0.23852459016393443|\n",
      "|       [22960]|   [22720]| 0.3155737704918033|\n",
      "|       [22960]|   [22961]|0.38934426229508196|\n",
      "|       [22960]|   [22666]|0.28032786885245903|\n",
      "|       [22960]|   [22993]| 0.2540983606557377|\n",
      "|       [22960]|   [22697]|0.21475409836065573|\n",
      "|       [22960]|   [22722]|0.22131147540983606|\n",
      "|[20726, 22382]|   [20728]|  0.546583850931677|\n",
      "|[20726, 22382]|   [20725]| 0.6356107660455487|\n",
      "|[20726, 22382]|   [20727]| 0.5445134575569358|\n",
      "|[20726, 22382]|   [22383]| 0.5403726708074534|\n",
      "|       [21977]|   [21212]| 0.4948571428571429|\n",
      "|       [21977]|   [84991]| 0.4045714285714286|\n",
      "|       [22699]|   [22423]|0.47946428571428573|\n",
      "|       [22699]|   [23170]|0.24910714285714286|\n",
      "|       [22699]|   [22697]|                0.7|\n",
      "+--------------+----------+-------------------+\n",
      "only showing top 20 rows\n",
      "\n"
     ]
    }
   ],
   "source": [
    "model4.associationRules.show()"
   ]
  },
  {
   "cell_type": "markdown",
   "metadata": {},
   "source": [
    "## 4. Get Prediction"
   ]
  },
  {
   "cell_type": "markdown",
   "metadata": {},
   "source": [
    "#### 4.1 Get prediction from model 3"
   ]
  },
  {
   "cell_type": "code",
   "execution_count": 130,
   "metadata": {},
   "outputs": [],
   "source": [
    "#Get 1 example of items and put it into Data Frame\n",
    "df_compare1=spark.createDataFrame([\n",
    "    ('0',['22699'])\n",
    "],['id','items'])"
   ]
  },
  {
   "cell_type": "code",
   "execution_count": 131,
   "metadata": {},
   "outputs": [
    {
     "name": "stdout",
     "output_type": "stream",
     "text": [
      "+---+-------+\n",
      "| id|  items|\n",
      "+---+-------+\n",
      "|  0|[22699]|\n",
      "+---+-------+\n",
      "\n"
     ]
    }
   ],
   "source": [
    "df_compare1.show()"
   ]
  },
  {
   "cell_type": "code",
   "execution_count": 132,
   "metadata": {},
   "outputs": [
    {
     "name": "stdout",
     "output_type": "stream",
     "text": [
      "+---+-------+----------+\n",
      "| id|  items|prediction|\n",
      "+---+-------+----------+\n",
      "|  0|[22699]|   [22697]|\n",
      "+---+-------+----------+\n",
      "\n"
     ]
    }
   ],
   "source": [
    "model3.transform(df_compare1).show()"
   ]
  },
  {
   "cell_type": "code",
   "execution_count": 133,
   "metadata": {},
   "outputs": [],
   "source": [
    "# collect the prediction\n",
    "predict1 = model3.transform(df_compare).select('prediction').collect()[0][0]"
   ]
  },
  {
   "cell_type": "code",
   "execution_count": 140,
   "metadata": {},
   "outputs": [],
   "source": [
    "predict1 = (', '.join(predict1))"
   ]
  },
  {
   "cell_type": "code",
   "execution_count": 141,
   "metadata": {},
   "outputs": [
    {
     "name": "stdout",
     "output_type": "stream",
     "text": [
      "22697\n"
     ]
    }
   ],
   "source": [
    "print(predict1)"
   ]
  },
  {
   "cell_type": "code",
   "execution_count": 147,
   "metadata": {},
   "outputs": [
    {
     "name": "stdout",
     "output_type": "stream",
     "text": [
      "+--------------------+\n",
      "|         Description|\n",
      "+--------------------+\n",
      "|ROSES REGENCY TEA...|\n",
      "+--------------------+\n",
      "\n"
     ]
    }
   ],
   "source": [
    "query_awal = spark.sql(\"SELECT DISTINCT Description \\\n",
    "                        FROM ecommerce WHERE StockCode = '22699'\")\n",
    "query_awal.show()"
   ]
  },
  {
   "cell_type": "code",
   "execution_count": 142,
   "metadata": {},
   "outputs": [
    {
     "name": "stdout",
     "output_type": "stream",
     "text": [
      "+--------------------+\n",
      "|         Description|\n",
      "+--------------------+\n",
      "|GREEN REGENCY TEA...|\n",
      "+--------------------+\n",
      "\n"
     ]
    }
   ],
   "source": [
    "query_predict1 = spark.sql(\"SELECT DISTINCT Description \\\n",
    "                    FROM ecommerce \\\n",
    "                    WHERE StockCode IN ({})\".format(predict1))\n",
    "query_predict1.show()"
   ]
  },
  {
   "cell_type": "markdown",
   "metadata": {},
   "source": [
    "#### 4.2 Get prediction from model 4"
   ]
  },
  {
   "cell_type": "code",
   "execution_count": 163,
   "metadata": {},
   "outputs": [],
   "source": [
    "#Get 1 example of items and put it into Data Frame\n",
    "df_compare2=spark.createDataFrame([\n",
    "    ('0',['85099B'])\n",
    "],['id','items'])"
   ]
  },
  {
   "cell_type": "code",
   "execution_count": 167,
   "metadata": {},
   "outputs": [
    {
     "name": "stdout",
     "output_type": "stream",
     "text": [
      "+---+--------+\n",
      "| id|   items|\n",
      "+---+--------+\n",
      "|  0|[85099B]|\n",
      "+---+--------+\n",
      "\n"
     ]
    }
   ],
   "source": [
    "df_compare2.show()"
   ]
  },
  {
   "cell_type": "code",
   "execution_count": 164,
   "metadata": {},
   "outputs": [
    {
     "name": "stdout",
     "output_type": "stream",
     "text": [
      "+---+--------+--------------------+\n",
      "| id|   items|          prediction|\n",
      "+---+--------+--------------------+\n",
      "|  0|[85099B]|[22386, 21931, 22...|\n",
      "+---+--------+--------------------+\n",
      "\n"
     ]
    }
   ],
   "source": [
    "model3.transform(df_compare2).show()"
   ]
  },
  {
   "cell_type": "code",
   "execution_count": 165,
   "metadata": {},
   "outputs": [],
   "source": [
    "# collect the prediction\n",
    "predict2 = model3.transform(df_compare2).select('prediction').collect()[0][0]"
   ]
  },
  {
   "cell_type": "code",
   "execution_count": 166,
   "metadata": {},
   "outputs": [
    {
     "name": "stdout",
     "output_type": "stream",
     "text": [
      "22386, 21931, 22411\n"
     ]
    }
   ],
   "source": [
    "predict2 = (', '.join(predict2))\n",
    "print(predict2)"
   ]
  },
  {
   "cell_type": "code",
   "execution_count": 168,
   "metadata": {},
   "outputs": [
    {
     "name": "stdout",
     "output_type": "stream",
     "text": [
      "+--------------------+\n",
      "|         Description|\n",
      "+--------------------+\n",
      "|JUMBO BAG RED RET...|\n",
      "+--------------------+\n",
      "\n"
     ]
    }
   ],
   "source": [
    "query_awal = spark.sql(\"SELECT DISTINCT Description \\\n",
    "                        FROM ecommerce WHERE StockCode = '85099B'\")\n",
    "query_awal.show()"
   ]
  },
  {
   "cell_type": "code",
   "execution_count": 169,
   "metadata": {},
   "outputs": [
    {
     "name": "stdout",
     "output_type": "stream",
     "text": [
      "+--------------------+\n",
      "|         Description|\n",
      "+--------------------+\n",
      "|JUMBO SHOPPER VIN...|\n",
      "|JUMBO STORAGE BAG...|\n",
      "|JUMBO BAG PINK PO...|\n",
      "+--------------------+\n",
      "\n"
     ]
    }
   ],
   "source": [
    "query_predict2 = spark.sql(\"SELECT DISTINCT Description \\\n",
    "                    FROM ecommerce \\\n",
    "                    WHERE StockCode IN ({})\".format(predict2))\n",
    "query_predict2.show()"
   ]
  },
  {
   "cell_type": "markdown",
   "metadata": {},
   "source": [
    "## Conclusion"
   ]
  },
  {
   "cell_type": "markdown",
   "metadata": {},
   "source": [
    "> (from model 3 & predict 1)When someone buy  Roses Regency Tea, then they will buy Green Regency Tea"
   ]
  },
  {
   "cell_type": "markdown",
   "metadata": {},
   "source": [
    ">(from model 4 & predict 2) When someone buy Jumbo Bag Retrospot then the will buy : \n",
    "- Jumbo Shopper Vintage Red Paisley or/and\n",
    "- Jumbo Storage Bag Suki or/and\n",
    "- Jumbo Bag Pink Polkadot"
   ]
  },
  {
   "cell_type": "markdown",
   "metadata": {},
   "source": [
    "## Reference"
   ]
  },
  {
   "cell_type": "markdown",
   "metadata": {},
   "source": [
    "- https://spark.apache.org/docs/2.3.0/ml-frequent-pattern-mining.html\n",
    "- https://www.npntraining.com/blog/difference-between-collect_set-and-collect_list-functions-in-hive/\n",
    "- https://stackoverflow.com/questions/37284216/spark-sql-passing-a-variable"
   ]
  }
 ],
 "metadata": {
  "kernelspec": {
   "display_name": "Python 3",
   "language": "python",
   "name": "python3"
  },
  "language_info": {
   "codemirror_mode": {
    "name": "ipython",
    "version": 3
   },
   "file_extension": ".py",
   "mimetype": "text/x-python",
   "name": "python",
   "nbconvert_exporter": "python",
   "pygments_lexer": "ipython3",
   "version": "3.7.1"
  }
 },
 "nbformat": 4,
 "nbformat_minor": 2
}
